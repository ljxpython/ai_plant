{
 "cells": [
  {
   "cell_type": "markdown",
   "id": "1496f9de",
   "metadata": {
    "id": "1496f9de"
   },
   "source": [
    "<a href=\"https://colab.research.google.com/github/milvus-io/bootcamp/blob/master/bootcamp/tutorials/integration/rag_with_milvus_and_llamaindex.ipynb\" target=\"_parent\"><img src=\"https://colab.research.google.com/assets/colab-badge.svg\" alt=\"Open In Colab\"/></a>   <a href=\"https://github.com/milvus-io/bootcamp/blob/master/bootcamp/tutorials/integration/rag_with_milvus_and_llamaindex.ipynb\" target=\"_blank\">\n",
    "    <img src=\"https://img.shields.io/badge/View%20on%20GitHub-555555?style=flat&logo=github&logoColor=white\" alt=\"GitHub Repository\"/>\n",
    "</a>"
   ]
  },
  {
   "cell_type": "markdown",
   "id": "0b692c73",
   "metadata": {
    "id": "0b692c73"
   },
   "source": [
    "# 使用 Milvus 和 LlamaIndex 构建检索增强生成（RAG）系统\n",
    "\n",
    "本指南展示了如何使用 LlamaIndex 和 Milvus 构建检索增强生成（RAG）系统。\n",
    "\n",
    "RAG 系统结合了检索系统和生成模型，基于给定的提示生成新的文本。系统首先使用 Milvus 从语料库中检索相关文档，然后利用生成模型根据检索到的文档生成新的文本。\n",
    "[LlamaIndex](https://www.llamaindex.ai/) 是一个简单且灵活的数据框架，用于将自定义数据源连接到大型语言模型（LLMs）。[Milvus](https://milvus.io/) 是世界上最先进的开源向量数据库，旨在支持嵌入相似性搜索和人工智能应用。\n",
    "展示使用 MilvusVectorStore 的快速演示。"
   ]
  },
  {
   "cell_type": "markdown",
   "id": "f81e2c81",
   "metadata": {
    "id": "f81e2c81"
   },
   "source": [
    "## 开始之前\n",
    "\n",
    "### 安装依赖"
   ]
  },
  {
   "cell_type": "code",
   "id": "7aa64984",
   "metadata": {
    "vscode": {
     "languageId": "powershell"
    },
    "id": "7aa64984",
    "ExecuteTime": {
     "end_time": "2025-02-14T04:18:09.159881Z",
     "start_time": "2025-02-14T04:17:55.363517Z"
    }
   },
   "source": "%pip install pymilvus>2.4.2",
   "outputs": [
    {
     "name": "stdout",
     "output_type": "stream",
     "text": [
      "Note: you may need to restart the kernel to use updated packages.\n"
     ]
    },
    {
     "name": "stderr",
     "output_type": "stream",
     "text": [
      "\n",
      "[notice] A new release of pip is available: 23.2.1 -> 25.0.1\n",
      "[notice] To update, run: python.exe -m pip install --upgrade pip\n"
     ]
    }
   ],
   "execution_count": 1
  },
  {
   "cell_type": "code",
   "id": "3e0c18ca",
   "metadata": {
    "vscode": {
     "languageId": "powershell"
    },
    "id": "3e0c18ca",
    "ExecuteTime": {
     "end_time": "2025-02-14T04:23:02.889823Z",
     "start_time": "2025-02-14T04:22:58.938416Z"
    }
   },
   "source": [
    "%pip install llama-index-vector-stores-milvus"
   ],
   "outputs": [
    {
     "name": "stdout",
     "output_type": "stream",
     "text": [
      "Requirement already satisfied: llama-index-vector-stores-milvus in c:\\users\\86134\\desktop\\workspace\\ai\\ai_testing_002\\.venv\\lib\\site-packages (0.5.0)\n",
      "Requirement already satisfied: llama-index-core<0.13.0,>=0.12.0 in c:\\users\\86134\\desktop\\workspace\\ai\\ai_testing_002\\.venv\\lib\\site-packages (from llama-index-vector-stores-milvus) (0.12.12)\n",
      "Requirement already satisfied: pymilvus<3.0.0,>=2.5.2 in c:\\users\\86134\\desktop\\workspace\\ai\\ai_testing_002\\.venv\\lib\\site-packages (from llama-index-vector-stores-milvus) (2.5.4)\n",
      "Requirement already satisfied: PyYAML>=6.0.1 in c:\\users\\86134\\desktop\\workspace\\ai\\ai_testing_002\\.venv\\lib\\site-packages (from llama-index-core<0.13.0,>=0.12.0->llama-index-vector-stores-milvus) (6.0.2)\n",
      "Requirement already satisfied: SQLAlchemy[asyncio]>=1.4.49 in c:\\users\\86134\\desktop\\workspace\\ai\\ai_testing_002\\.venv\\lib\\site-packages (from llama-index-core<0.13.0,>=0.12.0->llama-index-vector-stores-milvus) (2.0.37)\n",
      "Requirement already satisfied: aiohttp<4.0.0,>=3.8.6 in c:\\users\\86134\\desktop\\workspace\\ai\\ai_testing_002\\.venv\\lib\\site-packages (from llama-index-core<0.13.0,>=0.12.0->llama-index-vector-stores-milvus) (3.11.11)\n",
      "Requirement already satisfied: dataclasses-json in c:\\users\\86134\\desktop\\workspace\\ai\\ai_testing_002\\.venv\\lib\\site-packages (from llama-index-core<0.13.0,>=0.12.0->llama-index-vector-stores-milvus) (0.6.7)\n",
      "Requirement already satisfied: deprecated>=1.2.9.3 in c:\\users\\86134\\desktop\\workspace\\ai\\ai_testing_002\\.venv\\lib\\site-packages (from llama-index-core<0.13.0,>=0.12.0->llama-index-vector-stores-milvus) (1.2.15)\n",
      "Requirement already satisfied: dirtyjson<2.0.0,>=1.0.8 in c:\\users\\86134\\desktop\\workspace\\ai\\ai_testing_002\\.venv\\lib\\site-packages (from llama-index-core<0.13.0,>=0.12.0->llama-index-vector-stores-milvus) (1.0.8)\n",
      "Requirement already satisfied: filetype<2.0.0,>=1.2.0 in c:\\users\\86134\\desktop\\workspace\\ai\\ai_testing_002\\.venv\\lib\\site-packages (from llama-index-core<0.13.0,>=0.12.0->llama-index-vector-stores-milvus) (1.2.0)\n",
      "Requirement already satisfied: fsspec>=2023.5.0 in c:\\users\\86134\\desktop\\workspace\\ai\\ai_testing_002\\.venv\\lib\\site-packages (from llama-index-core<0.13.0,>=0.12.0->llama-index-vector-stores-milvus) (2024.12.0)\n",
      "Requirement already satisfied: httpx in c:\\users\\86134\\desktop\\workspace\\ai\\ai_testing_002\\.venv\\lib\\site-packages (from llama-index-core<0.13.0,>=0.12.0->llama-index-vector-stores-milvus) (0.28.1)\n",
      "Requirement already satisfied: nest-asyncio<2.0.0,>=1.5.8 in c:\\users\\86134\\desktop\\workspace\\ai\\ai_testing_002\\.venv\\lib\\site-packages (from llama-index-core<0.13.0,>=0.12.0->llama-index-vector-stores-milvus) (1.6.0)\n",
      "Requirement already satisfied: networkx>=3.0 in c:\\users\\86134\\desktop\\workspace\\ai\\ai_testing_002\\.venv\\lib\\site-packages (from llama-index-core<0.13.0,>=0.12.0->llama-index-vector-stores-milvus) (3.4.2)\n",
      "Requirement already satisfied: nltk>3.8.1 in c:\\users\\86134\\desktop\\workspace\\ai\\ai_testing_002\\.venv\\lib\\site-packages (from llama-index-core<0.13.0,>=0.12.0->llama-index-vector-stores-milvus) (3.9.1)\n",
      "Requirement already satisfied: numpy in c:\\users\\86134\\desktop\\workspace\\ai\\ai_testing_002\\.venv\\lib\\site-packages (from llama-index-core<0.13.0,>=0.12.0->llama-index-vector-stores-milvus) (2.2.2)\n",
      "Requirement already satisfied: pillow>=9.0.0 in c:\\users\\86134\\desktop\\workspace\\ai\\ai_testing_002\\.venv\\lib\\site-packages (from llama-index-core<0.13.0,>=0.12.0->llama-index-vector-stores-milvus) (10.4.0)\n",
      "Requirement already satisfied: pydantic>=2.8.0 in c:\\users\\86134\\desktop\\workspace\\ai\\ai_testing_002\\.venv\\lib\\site-packages (from llama-index-core<0.13.0,>=0.12.0->llama-index-vector-stores-milvus) (2.10.5)\n",
      "Requirement already satisfied: requests>=2.31.0 in c:\\users\\86134\\desktop\\workspace\\ai\\ai_testing_002\\.venv\\lib\\site-packages (from llama-index-core<0.13.0,>=0.12.0->llama-index-vector-stores-milvus) (2.32.3)\n",
      "Requirement already satisfied: tenacity!=8.4.0,<10.0.0,>=8.2.0 in c:\\users\\86134\\desktop\\workspace\\ai\\ai_testing_002\\.venv\\lib\\site-packages (from llama-index-core<0.13.0,>=0.12.0->llama-index-vector-stores-milvus) (9.0.0)\n",
      "Requirement already satisfied: tiktoken>=0.3.3 in c:\\users\\86134\\desktop\\workspace\\ai\\ai_testing_002\\.venv\\lib\\site-packages (from llama-index-core<0.13.0,>=0.12.0->llama-index-vector-stores-milvus) (0.8.0)\n",
      "Requirement already satisfied: tqdm<5.0.0,>=4.66.1 in c:\\users\\86134\\desktop\\workspace\\ai\\ai_testing_002\\.venv\\lib\\site-packages (from llama-index-core<0.13.0,>=0.12.0->llama-index-vector-stores-milvus) (4.67.1)\n",
      "Requirement already satisfied: typing-extensions>=4.5.0 in c:\\users\\86134\\desktop\\workspace\\ai\\ai_testing_002\\.venv\\lib\\site-packages (from llama-index-core<0.13.0,>=0.12.0->llama-index-vector-stores-milvus) (4.12.2)\n",
      "Requirement already satisfied: typing-inspect>=0.8.0 in c:\\users\\86134\\desktop\\workspace\\ai\\ai_testing_002\\.venv\\lib\\site-packages (from llama-index-core<0.13.0,>=0.12.0->llama-index-vector-stores-milvus) (0.9.0)\n",
      "Requirement already satisfied: wrapt in c:\\users\\86134\\desktop\\workspace\\ai\\ai_testing_002\\.venv\\lib\\site-packages (from llama-index-core<0.13.0,>=0.12.0->llama-index-vector-stores-milvus) (1.17.2)\n",
      "Requirement already satisfied: setuptools>69 in c:\\users\\86134\\desktop\\workspace\\ai\\ai_testing_002\\.venv\\lib\\site-packages (from pymilvus<3.0.0,>=2.5.2->llama-index-vector-stores-milvus) (75.8.0)\n",
      "Requirement already satisfied: grpcio<=1.67.1,>=1.49.1 in c:\\users\\86134\\desktop\\workspace\\ai\\ai_testing_002\\.venv\\lib\\site-packages (from pymilvus<3.0.0,>=2.5.2->llama-index-vector-stores-milvus) (1.67.1)\n",
      "Requirement already satisfied: protobuf>=3.20.0 in c:\\users\\86134\\desktop\\workspace\\ai\\ai_testing_002\\.venv\\lib\\site-packages (from pymilvus<3.0.0,>=2.5.2->llama-index-vector-stores-milvus) (5.29.3)\n",
      "Requirement already satisfied: python-dotenv<2.0.0,>=1.0.1 in c:\\users\\86134\\desktop\\workspace\\ai\\ai_testing_002\\.venv\\lib\\site-packages (from pymilvus<3.0.0,>=2.5.2->llama-index-vector-stores-milvus) (1.0.1)\n",
      "Requirement already satisfied: ujson>=2.0.0 in c:\\users\\86134\\desktop\\workspace\\ai\\ai_testing_002\\.venv\\lib\\site-packages (from pymilvus<3.0.0,>=2.5.2->llama-index-vector-stores-milvus) (5.10.0)\n",
      "Requirement already satisfied: pandas>=1.2.4 in c:\\users\\86134\\desktop\\workspace\\ai\\ai_testing_002\\.venv\\lib\\site-packages (from pymilvus<3.0.0,>=2.5.2->llama-index-vector-stores-milvus) (2.2.3)\n",
      "Requirement already satisfied: aiohappyeyeballs>=2.3.0 in c:\\users\\86134\\desktop\\workspace\\ai\\ai_testing_002\\.venv\\lib\\site-packages (from aiohttp<4.0.0,>=3.8.6->llama-index-core<0.13.0,>=0.12.0->llama-index-vector-stores-milvus) (2.4.4)\n",
      "Requirement already satisfied: aiosignal>=1.1.2 in c:\\users\\86134\\desktop\\workspace\\ai\\ai_testing_002\\.venv\\lib\\site-packages (from aiohttp<4.0.0,>=3.8.6->llama-index-core<0.13.0,>=0.12.0->llama-index-vector-stores-milvus) (1.3.2)\n",
      "Requirement already satisfied: attrs>=17.3.0 in c:\\users\\86134\\desktop\\workspace\\ai\\ai_testing_002\\.venv\\lib\\site-packages (from aiohttp<4.0.0,>=3.8.6->llama-index-core<0.13.0,>=0.12.0->llama-index-vector-stores-milvus) (24.3.0)\n",
      "Requirement already satisfied: frozenlist>=1.1.1 in c:\\users\\86134\\desktop\\workspace\\ai\\ai_testing_002\\.venv\\lib\\site-packages (from aiohttp<4.0.0,>=3.8.6->llama-index-core<0.13.0,>=0.12.0->llama-index-vector-stores-milvus) (1.5.0)\n",
      "Requirement already satisfied: multidict<7.0,>=4.5 in c:\\users\\86134\\desktop\\workspace\\ai\\ai_testing_002\\.venv\\lib\\site-packages (from aiohttp<4.0.0,>=3.8.6->llama-index-core<0.13.0,>=0.12.0->llama-index-vector-stores-milvus) (6.1.0)\n",
      "Requirement already satisfied: propcache>=0.2.0 in c:\\users\\86134\\desktop\\workspace\\ai\\ai_testing_002\\.venv\\lib\\site-packages (from aiohttp<4.0.0,>=3.8.6->llama-index-core<0.13.0,>=0.12.0->llama-index-vector-stores-milvus) (0.2.1)\n",
      "Requirement already satisfied: yarl<2.0,>=1.17.0 in c:\\users\\86134\\desktop\\workspace\\ai\\ai_testing_002\\.venv\\lib\\site-packages (from aiohttp<4.0.0,>=3.8.6->llama-index-core<0.13.0,>=0.12.0->llama-index-vector-stores-milvus) (1.18.3)\n",
      "Requirement already satisfied: click in c:\\users\\86134\\desktop\\workspace\\ai\\ai_testing_002\\.venv\\lib\\site-packages (from nltk>3.8.1->llama-index-core<0.13.0,>=0.12.0->llama-index-vector-stores-milvus) (8.1.8)\n",
      "Requirement already satisfied: joblib in c:\\users\\86134\\desktop\\workspace\\ai\\ai_testing_002\\.venv\\lib\\site-packages (from nltk>3.8.1->llama-index-core<0.13.0,>=0.12.0->llama-index-vector-stores-milvus) (1.4.2)\n",
      "Requirement already satisfied: regex>=2021.8.3 in c:\\users\\86134\\desktop\\workspace\\ai\\ai_testing_002\\.venv\\lib\\site-packages (from nltk>3.8.1->llama-index-core<0.13.0,>=0.12.0->llama-index-vector-stores-milvus) (2024.11.6)\n",
      "Requirement already satisfied: python-dateutil>=2.8.2 in c:\\users\\86134\\desktop\\workspace\\ai\\ai_testing_002\\.venv\\lib\\site-packages (from pandas>=1.2.4->pymilvus<3.0.0,>=2.5.2->llama-index-vector-stores-milvus) (2.9.0.post0)\n",
      "Requirement already satisfied: pytz>=2020.1 in c:\\users\\86134\\desktop\\workspace\\ai\\ai_testing_002\\.venv\\lib\\site-packages (from pandas>=1.2.4->pymilvus<3.0.0,>=2.5.2->llama-index-vector-stores-milvus) (2024.2)\n",
      "Requirement already satisfied: tzdata>=2022.7 in c:\\users\\86134\\desktop\\workspace\\ai\\ai_testing_002\\.venv\\lib\\site-packages (from pandas>=1.2.4->pymilvus<3.0.0,>=2.5.2->llama-index-vector-stores-milvus) (2025.1)\n",
      "Requirement already satisfied: annotated-types>=0.6.0 in c:\\users\\86134\\desktop\\workspace\\ai\\ai_testing_002\\.venv\\lib\\site-packages (from pydantic>=2.8.0->llama-index-core<0.13.0,>=0.12.0->llama-index-vector-stores-milvus) (0.7.0)\n",
      "Requirement already satisfied: pydantic-core==2.27.2 in c:\\users\\86134\\desktop\\workspace\\ai\\ai_testing_002\\.venv\\lib\\site-packages (from pydantic>=2.8.0->llama-index-core<0.13.0,>=0.12.0->llama-index-vector-stores-milvus) (2.27.2)\n",
      "Requirement already satisfied: charset-normalizer<4,>=2 in c:\\users\\86134\\desktop\\workspace\\ai\\ai_testing_002\\.venv\\lib\\site-packages (from requests>=2.31.0->llama-index-core<0.13.0,>=0.12.0->llama-index-vector-stores-milvus) (3.4.1)\n",
      "Requirement already satisfied: idna<4,>=2.5 in c:\\users\\86134\\desktop\\workspace\\ai\\ai_testing_002\\.venv\\lib\\site-packages (from requests>=2.31.0->llama-index-core<0.13.0,>=0.12.0->llama-index-vector-stores-milvus) (3.10)\n",
      "Requirement already satisfied: urllib3<3,>=1.21.1 in c:\\users\\86134\\desktop\\workspace\\ai\\ai_testing_002\\.venv\\lib\\site-packages (from requests>=2.31.0->llama-index-core<0.13.0,>=0.12.0->llama-index-vector-stores-milvus) (2.3.0)\n",
      "Requirement already satisfied: certifi>=2017.4.17 in c:\\users\\86134\\desktop\\workspace\\ai\\ai_testing_002\\.venv\\lib\\site-packages (from requests>=2.31.0->llama-index-core<0.13.0,>=0.12.0->llama-index-vector-stores-milvus) (2024.12.14)\n",
      "Requirement already satisfied: greenlet!=0.4.17 in c:\\users\\86134\\desktop\\workspace\\ai\\ai_testing_002\\.venv\\lib\\site-packages (from SQLAlchemy[asyncio]>=1.4.49->llama-index-core<0.13.0,>=0.12.0->llama-index-vector-stores-milvus) (3.1.1)\n",
      "Requirement already satisfied: colorama in c:\\users\\86134\\desktop\\workspace\\ai\\ai_testing_002\\.venv\\lib\\site-packages (from tqdm<5.0.0,>=4.66.1->llama-index-core<0.13.0,>=0.12.0->llama-index-vector-stores-milvus) (0.4.6)\n",
      "Requirement already satisfied: mypy-extensions>=0.3.0 in c:\\users\\86134\\desktop\\workspace\\ai\\ai_testing_002\\.venv\\lib\\site-packages (from typing-inspect>=0.8.0->llama-index-core<0.13.0,>=0.12.0->llama-index-vector-stores-milvus) (1.0.0)\n",
      "Requirement already satisfied: marshmallow<4.0.0,>=3.18.0 in c:\\users\\86134\\desktop\\workspace\\ai\\ai_testing_002\\.venv\\lib\\site-packages (from dataclasses-json->llama-index-core<0.13.0,>=0.12.0->llama-index-vector-stores-milvus) (3.25.1)\n",
      "Requirement already satisfied: anyio in c:\\users\\86134\\desktop\\workspace\\ai\\ai_testing_002\\.venv\\lib\\site-packages (from httpx->llama-index-core<0.13.0,>=0.12.0->llama-index-vector-stores-milvus) (4.8.0)\n",
      "Requirement already satisfied: httpcore==1.* in c:\\users\\86134\\desktop\\workspace\\ai\\ai_testing_002\\.venv\\lib\\site-packages (from httpx->llama-index-core<0.13.0,>=0.12.0->llama-index-vector-stores-milvus) (1.0.7)\n",
      "Requirement already satisfied: h11<0.15,>=0.13 in c:\\users\\86134\\desktop\\workspace\\ai\\ai_testing_002\\.venv\\lib\\site-packages (from httpcore==1.*->httpx->llama-index-core<0.13.0,>=0.12.0->llama-index-vector-stores-milvus) (0.14.0)\n",
      "Requirement already satisfied: packaging>=17.0 in c:\\users\\86134\\desktop\\workspace\\ai\\ai_testing_002\\.venv\\lib\\site-packages (from marshmallow<4.0.0,>=3.18.0->dataclasses-json->llama-index-core<0.13.0,>=0.12.0->llama-index-vector-stores-milvus) (24.2)\n",
      "Requirement already satisfied: six>=1.5 in c:\\users\\86134\\desktop\\workspace\\ai\\ai_testing_002\\.venv\\lib\\site-packages (from python-dateutil>=2.8.2->pandas>=1.2.4->pymilvus<3.0.0,>=2.5.2->llama-index-vector-stores-milvus) (1.17.0)\n",
      "Requirement already satisfied: sniffio>=1.1 in c:\\users\\86134\\desktop\\workspace\\ai\\ai_testing_002\\.venv\\lib\\site-packages (from anyio->httpx->llama-index-core<0.13.0,>=0.12.0->llama-index-vector-stores-milvus) (1.3.1)\n",
      "Note: you may need to restart the kernel to use updated packages.\n"
     ]
    },
    {
     "name": "stderr",
     "output_type": "stream",
     "text": [
      "\n",
      "[notice] A new release of pip is available: 23.2.1 -> 25.0.1\n",
      "[notice] To update, run: python.exe -m pip install --upgrade pip\n"
     ]
    }
   ],
   "execution_count": 1
  },
  {
   "cell_type": "code",
   "id": "6b80700a",
   "metadata": {
    "vscode": {
     "languageId": "powershell"
    },
    "id": "6b80700a",
    "ExecuteTime": {
     "end_time": "2025-02-14T04:19:21.558144Z",
     "start_time": "2025-02-14T04:19:17.691685Z"
    }
   },
   "source": [
    "%pip install llama-index"
   ],
   "outputs": [
    {
     "name": "stdout",
     "output_type": "stream",
     "text": [
      "Requirement already satisfied: llama-index in c:\\users\\86134\\desktop\\workspace\\ai\\ai_testing_002\\.venv\\lib\\site-packages (0.12.12)\n",
      "Requirement already satisfied: llama-index-agent-openai<0.5.0,>=0.4.0 in c:\\users\\86134\\desktop\\workspace\\ai\\ai_testing_002\\.venv\\lib\\site-packages (from llama-index) (0.4.2)\n",
      "Requirement already satisfied: llama-index-cli<0.5.0,>=0.4.0 in c:\\users\\86134\\desktop\\workspace\\ai\\ai_testing_002\\.venv\\lib\\site-packages (from llama-index) (0.4.0)\n",
      "Requirement already satisfied: llama-index-core<0.13.0,>=0.12.12 in c:\\users\\86134\\desktop\\workspace\\ai\\ai_testing_002\\.venv\\lib\\site-packages (from llama-index) (0.12.12)\n",
      "Requirement already satisfied: llama-index-embeddings-openai<0.4.0,>=0.3.0 in c:\\users\\86134\\desktop\\workspace\\ai\\ai_testing_002\\.venv\\lib\\site-packages (from llama-index) (0.3.1)\n",
      "Requirement already satisfied: llama-index-indices-managed-llama-cloud>=0.4.0 in c:\\users\\86134\\desktop\\workspace\\ai\\ai_testing_002\\.venv\\lib\\site-packages (from llama-index) (0.6.4)\n",
      "Requirement already satisfied: llama-index-llms-openai<0.4.0,>=0.3.0 in c:\\users\\86134\\desktop\\workspace\\ai\\ai_testing_002\\.venv\\lib\\site-packages (from llama-index) (0.3.13)\n",
      "Requirement already satisfied: llama-index-multi-modal-llms-openai<0.5.0,>=0.4.0 in c:\\users\\86134\\desktop\\workspace\\ai\\ai_testing_002\\.venv\\lib\\site-packages (from llama-index) (0.4.2)\n",
      "Requirement already satisfied: llama-index-program-openai<0.4.0,>=0.3.0 in c:\\users\\86134\\desktop\\workspace\\ai\\ai_testing_002\\.venv\\lib\\site-packages (from llama-index) (0.3.1)\n",
      "Requirement already satisfied: llama-index-question-gen-openai<0.4.0,>=0.3.0 in c:\\users\\86134\\desktop\\workspace\\ai\\ai_testing_002\\.venv\\lib\\site-packages (from llama-index) (0.3.0)\n",
      "Requirement already satisfied: llama-index-readers-file<0.5.0,>=0.4.0 in c:\\users\\86134\\desktop\\workspace\\ai\\ai_testing_002\\.venv\\lib\\site-packages (from llama-index) (0.4.3)\n",
      "Requirement already satisfied: llama-index-readers-llama-parse>=0.4.0 in c:\\users\\86134\\desktop\\workspace\\ai\\ai_testing_002\\.venv\\lib\\site-packages (from llama-index) (0.4.0)\n",
      "Requirement already satisfied: nltk>3.8.1 in c:\\users\\86134\\desktop\\workspace\\ai\\ai_testing_002\\.venv\\lib\\site-packages (from llama-index) (3.9.1)\n",
      "Requirement already satisfied: openai>=1.14.0 in c:\\users\\86134\\desktop\\workspace\\ai\\ai_testing_002\\.venv\\lib\\site-packages (from llama-index-agent-openai<0.5.0,>=0.4.0->llama-index) (1.59.9)\n",
      "Requirement already satisfied: PyYAML>=6.0.1 in c:\\users\\86134\\desktop\\workspace\\ai\\ai_testing_002\\.venv\\lib\\site-packages (from llama-index-core<0.13.0,>=0.12.12->llama-index) (6.0.2)\n",
      "Requirement already satisfied: SQLAlchemy[asyncio]>=1.4.49 in c:\\users\\86134\\desktop\\workspace\\ai\\ai_testing_002\\.venv\\lib\\site-packages (from llama-index-core<0.13.0,>=0.12.12->llama-index) (2.0.37)\n",
      "Requirement already satisfied: aiohttp<4.0.0,>=3.8.6 in c:\\users\\86134\\desktop\\workspace\\ai\\ai_testing_002\\.venv\\lib\\site-packages (from llama-index-core<0.13.0,>=0.12.12->llama-index) (3.11.11)\n",
      "Requirement already satisfied: dataclasses-json in c:\\users\\86134\\desktop\\workspace\\ai\\ai_testing_002\\.venv\\lib\\site-packages (from llama-index-core<0.13.0,>=0.12.12->llama-index) (0.6.7)\n",
      "Requirement already satisfied: deprecated>=1.2.9.3 in c:\\users\\86134\\desktop\\workspace\\ai\\ai_testing_002\\.venv\\lib\\site-packages (from llama-index-core<0.13.0,>=0.12.12->llama-index) (1.2.15)\n",
      "Requirement already satisfied: dirtyjson<2.0.0,>=1.0.8 in c:\\users\\86134\\desktop\\workspace\\ai\\ai_testing_002\\.venv\\lib\\site-packages (from llama-index-core<0.13.0,>=0.12.12->llama-index) (1.0.8)\n",
      "Requirement already satisfied: filetype<2.0.0,>=1.2.0 in c:\\users\\86134\\desktop\\workspace\\ai\\ai_testing_002\\.venv\\lib\\site-packages (from llama-index-core<0.13.0,>=0.12.12->llama-index) (1.2.0)\n",
      "Requirement already satisfied: fsspec>=2023.5.0 in c:\\users\\86134\\desktop\\workspace\\ai\\ai_testing_002\\.venv\\lib\\site-packages (from llama-index-core<0.13.0,>=0.12.12->llama-index) (2024.12.0)\n",
      "Requirement already satisfied: httpx in c:\\users\\86134\\desktop\\workspace\\ai\\ai_testing_002\\.venv\\lib\\site-packages (from llama-index-core<0.13.0,>=0.12.12->llama-index) (0.28.1)\n",
      "Requirement already satisfied: nest-asyncio<2.0.0,>=1.5.8 in c:\\users\\86134\\desktop\\workspace\\ai\\ai_testing_002\\.venv\\lib\\site-packages (from llama-index-core<0.13.0,>=0.12.12->llama-index) (1.6.0)\n",
      "Requirement already satisfied: networkx>=3.0 in c:\\users\\86134\\desktop\\workspace\\ai\\ai_testing_002\\.venv\\lib\\site-packages (from llama-index-core<0.13.0,>=0.12.12->llama-index) (3.4.2)\n",
      "Requirement already satisfied: numpy in c:\\users\\86134\\desktop\\workspace\\ai\\ai_testing_002\\.venv\\lib\\site-packages (from llama-index-core<0.13.0,>=0.12.12->llama-index) (2.2.2)\n",
      "Requirement already satisfied: pillow>=9.0.0 in c:\\users\\86134\\desktop\\workspace\\ai\\ai_testing_002\\.venv\\lib\\site-packages (from llama-index-core<0.13.0,>=0.12.12->llama-index) (10.4.0)\n",
      "Requirement already satisfied: pydantic>=2.8.0 in c:\\users\\86134\\desktop\\workspace\\ai\\ai_testing_002\\.venv\\lib\\site-packages (from llama-index-core<0.13.0,>=0.12.12->llama-index) (2.10.5)\n",
      "Requirement already satisfied: requests>=2.31.0 in c:\\users\\86134\\desktop\\workspace\\ai\\ai_testing_002\\.venv\\lib\\site-packages (from llama-index-core<0.13.0,>=0.12.12->llama-index) (2.32.3)\n",
      "Requirement already satisfied: tenacity!=8.4.0,<10.0.0,>=8.2.0 in c:\\users\\86134\\desktop\\workspace\\ai\\ai_testing_002\\.venv\\lib\\site-packages (from llama-index-core<0.13.0,>=0.12.12->llama-index) (9.0.0)\n",
      "Requirement already satisfied: tiktoken>=0.3.3 in c:\\users\\86134\\desktop\\workspace\\ai\\ai_testing_002\\.venv\\lib\\site-packages (from llama-index-core<0.13.0,>=0.12.12->llama-index) (0.8.0)\n",
      "Requirement already satisfied: tqdm<5.0.0,>=4.66.1 in c:\\users\\86134\\desktop\\workspace\\ai\\ai_testing_002\\.venv\\lib\\site-packages (from llama-index-core<0.13.0,>=0.12.12->llama-index) (4.67.1)\n",
      "Requirement already satisfied: typing-extensions>=4.5.0 in c:\\users\\86134\\desktop\\workspace\\ai\\ai_testing_002\\.venv\\lib\\site-packages (from llama-index-core<0.13.0,>=0.12.12->llama-index) (4.12.2)\n",
      "Requirement already satisfied: typing-inspect>=0.8.0 in c:\\users\\86134\\desktop\\workspace\\ai\\ai_testing_002\\.venv\\lib\\site-packages (from llama-index-core<0.13.0,>=0.12.12->llama-index) (0.9.0)\n",
      "Requirement already satisfied: wrapt in c:\\users\\86134\\desktop\\workspace\\ai\\ai_testing_002\\.venv\\lib\\site-packages (from llama-index-core<0.13.0,>=0.12.12->llama-index) (1.17.2)\n",
      "Requirement already satisfied: llama-cloud<0.2.0,>=0.1.8 in c:\\users\\86134\\desktop\\workspace\\ai\\ai_testing_002\\.venv\\lib\\site-packages (from llama-index-indices-managed-llama-cloud>=0.4.0->llama-index) (0.1.9)\n",
      "Requirement already satisfied: beautifulsoup4<5.0.0,>=4.12.3 in c:\\users\\86134\\desktop\\workspace\\ai\\ai_testing_002\\.venv\\lib\\site-packages (from llama-index-readers-file<0.5.0,>=0.4.0->llama-index) (4.12.3)\n",
      "Requirement already satisfied: pandas in c:\\users\\86134\\desktop\\workspace\\ai\\ai_testing_002\\.venv\\lib\\site-packages (from llama-index-readers-file<0.5.0,>=0.4.0->llama-index) (2.2.3)\n",
      "Requirement already satisfied: pypdf<6.0.0,>=5.1.0 in c:\\users\\86134\\desktop\\workspace\\ai\\ai_testing_002\\.venv\\lib\\site-packages (from llama-index-readers-file<0.5.0,>=0.4.0->llama-index) (5.1.0)\n",
      "Requirement already satisfied: striprtf<0.0.27,>=0.0.26 in c:\\users\\86134\\desktop\\workspace\\ai\\ai_testing_002\\.venv\\lib\\site-packages (from llama-index-readers-file<0.5.0,>=0.4.0->llama-index) (0.0.26)\n",
      "Requirement already satisfied: llama-parse>=0.5.0 in c:\\users\\86134\\desktop\\workspace\\ai\\ai_testing_002\\.venv\\lib\\site-packages (from llama-index-readers-llama-parse>=0.4.0->llama-index) (0.5.19)\n",
      "Requirement already satisfied: click in c:\\users\\86134\\desktop\\workspace\\ai\\ai_testing_002\\.venv\\lib\\site-packages (from nltk>3.8.1->llama-index) (8.1.8)\n",
      "Requirement already satisfied: joblib in c:\\users\\86134\\desktop\\workspace\\ai\\ai_testing_002\\.venv\\lib\\site-packages (from nltk>3.8.1->llama-index) (1.4.2)\n",
      "Requirement already satisfied: regex>=2021.8.3 in c:\\users\\86134\\desktop\\workspace\\ai\\ai_testing_002\\.venv\\lib\\site-packages (from nltk>3.8.1->llama-index) (2024.11.6)\n",
      "Requirement already satisfied: aiohappyeyeballs>=2.3.0 in c:\\users\\86134\\desktop\\workspace\\ai\\ai_testing_002\\.venv\\lib\\site-packages (from aiohttp<4.0.0,>=3.8.6->llama-index-core<0.13.0,>=0.12.12->llama-index) (2.4.4)\n",
      "Requirement already satisfied: aiosignal>=1.1.2 in c:\\users\\86134\\desktop\\workspace\\ai\\ai_testing_002\\.venv\\lib\\site-packages (from aiohttp<4.0.0,>=3.8.6->llama-index-core<0.13.0,>=0.12.12->llama-index) (1.3.2)\n",
      "Requirement already satisfied: attrs>=17.3.0 in c:\\users\\86134\\desktop\\workspace\\ai\\ai_testing_002\\.venv\\lib\\site-packages (from aiohttp<4.0.0,>=3.8.6->llama-index-core<0.13.0,>=0.12.12->llama-index) (24.3.0)\n",
      "Requirement already satisfied: frozenlist>=1.1.1 in c:\\users\\86134\\desktop\\workspace\\ai\\ai_testing_002\\.venv\\lib\\site-packages (from aiohttp<4.0.0,>=3.8.6->llama-index-core<0.13.0,>=0.12.12->llama-index) (1.5.0)\n",
      "Requirement already satisfied: multidict<7.0,>=4.5 in c:\\users\\86134\\desktop\\workspace\\ai\\ai_testing_002\\.venv\\lib\\site-packages (from aiohttp<4.0.0,>=3.8.6->llama-index-core<0.13.0,>=0.12.12->llama-index) (6.1.0)\n",
      "Requirement already satisfied: propcache>=0.2.0 in c:\\users\\86134\\desktop\\workspace\\ai\\ai_testing_002\\.venv\\lib\\site-packages (from aiohttp<4.0.0,>=3.8.6->llama-index-core<0.13.0,>=0.12.12->llama-index) (0.2.1)\n",
      "Requirement already satisfied: yarl<2.0,>=1.17.0 in c:\\users\\86134\\desktop\\workspace\\ai\\ai_testing_002\\.venv\\lib\\site-packages (from aiohttp<4.0.0,>=3.8.6->llama-index-core<0.13.0,>=0.12.12->llama-index) (1.18.3)\n",
      "Requirement already satisfied: soupsieve>1.2 in c:\\users\\86134\\desktop\\workspace\\ai\\ai_testing_002\\.venv\\lib\\site-packages (from beautifulsoup4<5.0.0,>=4.12.3->llama-index-readers-file<0.5.0,>=0.4.0->llama-index) (2.6)\n",
      "Requirement already satisfied: certifi<2025.0.0,>=2024.7.4 in c:\\users\\86134\\desktop\\workspace\\ai\\ai_testing_002\\.venv\\lib\\site-packages (from llama-cloud<0.2.0,>=0.1.8->llama-index-indices-managed-llama-cloud>=0.4.0->llama-index) (2024.12.14)\n",
      "Requirement already satisfied: anyio in c:\\users\\86134\\desktop\\workspace\\ai\\ai_testing_002\\.venv\\lib\\site-packages (from httpx->llama-index-core<0.13.0,>=0.12.12->llama-index) (4.8.0)\n",
      "Requirement already satisfied: httpcore==1.* in c:\\users\\86134\\desktop\\workspace\\ai\\ai_testing_002\\.venv\\lib\\site-packages (from httpx->llama-index-core<0.13.0,>=0.12.12->llama-index) (1.0.7)\n",
      "Requirement already satisfied: idna in c:\\users\\86134\\desktop\\workspace\\ai\\ai_testing_002\\.venv\\lib\\site-packages (from httpx->llama-index-core<0.13.0,>=0.12.12->llama-index) (3.10)\n",
      "Requirement already satisfied: h11<0.15,>=0.13 in c:\\users\\86134\\desktop\\workspace\\ai\\ai_testing_002\\.venv\\lib\\site-packages (from httpcore==1.*->httpx->llama-index-core<0.13.0,>=0.12.12->llama-index) (0.14.0)\n",
      "Requirement already satisfied: colorama in c:\\users\\86134\\desktop\\workspace\\ai\\ai_testing_002\\.venv\\lib\\site-packages (from click->nltk>3.8.1->llama-index) (0.4.6)\n",
      "Requirement already satisfied: distro<2,>=1.7.0 in c:\\users\\86134\\desktop\\workspace\\ai\\ai_testing_002\\.venv\\lib\\site-packages (from openai>=1.14.0->llama-index-agent-openai<0.5.0,>=0.4.0->llama-index) (1.9.0)\n",
      "Requirement already satisfied: jiter<1,>=0.4.0 in c:\\users\\86134\\desktop\\workspace\\ai\\ai_testing_002\\.venv\\lib\\site-packages (from openai>=1.14.0->llama-index-agent-openai<0.5.0,>=0.4.0->llama-index) (0.8.2)\n",
      "Requirement already satisfied: sniffio in c:\\users\\86134\\desktop\\workspace\\ai\\ai_testing_002\\.venv\\lib\\site-packages (from openai>=1.14.0->llama-index-agent-openai<0.5.0,>=0.4.0->llama-index) (1.3.1)\n",
      "Requirement already satisfied: annotated-types>=0.6.0 in c:\\users\\86134\\desktop\\workspace\\ai\\ai_testing_002\\.venv\\lib\\site-packages (from pydantic>=2.8.0->llama-index-core<0.13.0,>=0.12.12->llama-index) (0.7.0)\n",
      "Requirement already satisfied: pydantic-core==2.27.2 in c:\\users\\86134\\desktop\\workspace\\ai\\ai_testing_002\\.venv\\lib\\site-packages (from pydantic>=2.8.0->llama-index-core<0.13.0,>=0.12.12->llama-index) (2.27.2)\n",
      "Requirement already satisfied: charset-normalizer<4,>=2 in c:\\users\\86134\\desktop\\workspace\\ai\\ai_testing_002\\.venv\\lib\\site-packages (from requests>=2.31.0->llama-index-core<0.13.0,>=0.12.12->llama-index) (3.4.1)\n",
      "Requirement already satisfied: urllib3<3,>=1.21.1 in c:\\users\\86134\\desktop\\workspace\\ai\\ai_testing_002\\.venv\\lib\\site-packages (from requests>=2.31.0->llama-index-core<0.13.0,>=0.12.12->llama-index) (2.3.0)\n",
      "Requirement already satisfied: greenlet!=0.4.17 in c:\\users\\86134\\desktop\\workspace\\ai\\ai_testing_002\\.venv\\lib\\site-packages (from SQLAlchemy[asyncio]>=1.4.49->llama-index-core<0.13.0,>=0.12.12->llama-index) (3.1.1)\n",
      "Requirement already satisfied: mypy-extensions>=0.3.0 in c:\\users\\86134\\desktop\\workspace\\ai\\ai_testing_002\\.venv\\lib\\site-packages (from typing-inspect>=0.8.0->llama-index-core<0.13.0,>=0.12.12->llama-index) (1.0.0)\n",
      "Requirement already satisfied: marshmallow<4.0.0,>=3.18.0 in c:\\users\\86134\\desktop\\workspace\\ai\\ai_testing_002\\.venv\\lib\\site-packages (from dataclasses-json->llama-index-core<0.13.0,>=0.12.12->llama-index) (3.25.1)\n",
      "Requirement already satisfied: python-dateutil>=2.8.2 in c:\\users\\86134\\desktop\\workspace\\ai\\ai_testing_002\\.venv\\lib\\site-packages (from pandas->llama-index-readers-file<0.5.0,>=0.4.0->llama-index) (2.9.0.post0)\n",
      "Requirement already satisfied: pytz>=2020.1 in c:\\users\\86134\\desktop\\workspace\\ai\\ai_testing_002\\.venv\\lib\\site-packages (from pandas->llama-index-readers-file<0.5.0,>=0.4.0->llama-index) (2024.2)\n",
      "Requirement already satisfied: tzdata>=2022.7 in c:\\users\\86134\\desktop\\workspace\\ai\\ai_testing_002\\.venv\\lib\\site-packages (from pandas->llama-index-readers-file<0.5.0,>=0.4.0->llama-index) (2025.1)\n",
      "Requirement already satisfied: packaging>=17.0 in c:\\users\\86134\\desktop\\workspace\\ai\\ai_testing_002\\.venv\\lib\\site-packages (from marshmallow<4.0.0,>=3.18.0->dataclasses-json->llama-index-core<0.13.0,>=0.12.12->llama-index) (24.2)\n",
      "Requirement already satisfied: six>=1.5 in c:\\users\\86134\\desktop\\workspace\\ai\\ai_testing_002\\.venv\\lib\\site-packages (from python-dateutil>=2.8.2->pandas->llama-index-readers-file<0.5.0,>=0.4.0->llama-index) (1.17.0)\n",
      "Note: you may need to restart the kernel to use updated packages.\n"
     ]
    },
    {
     "name": "stderr",
     "output_type": "stream",
     "text": [
      "\n",
      "[notice] A new release of pip is available: 23.2.1 -> 25.0.1\n",
      "[notice] To update, run: python.exe -m pip install --upgrade pip\n"
     ]
    }
   ],
   "execution_count": 3
  },
  {
   "metadata": {},
   "cell_type": "markdown",
   "source": "### 导入依赖",
   "id": "66d794c9296549fa"
  },
  {
   "metadata": {
    "ExecuteTime": {
     "end_time": "2025-02-14T04:19:33.208482Z",
     "start_time": "2025-02-14T04:19:28.419547Z"
    }
   },
   "cell_type": "code",
   "source": [
    "from typing import Dict\n",
    "from llama_index.llms.openai.utils import ALL_AVAILABLE_MODELS, CHAT_MODELS\n",
    "from llama_index.llms.openai import OpenAI as DeepSeeK\n",
    "from llama_index.core import Settings"
   ],
   "id": "2f372139db251fd0",
   "outputs": [],
   "execution_count": 4
  },
  {
   "cell_type": "markdown",
   "id": "70cc8c56",
   "metadata": {
    "id": "70cc8c56"
   },
   "source": ""
  },
  {
   "cell_type": "markdown",
   "id": "f9b97a89",
   "metadata": {
    "id": "f9b97a89"
   },
   "source": "### 设置LLM\n"
  },
  {
   "cell_type": "code",
   "id": "0c9f4d21-145a-401e-95ff-ccb259e8ef84",
   "metadata": {
    "id": "0c9f4d21-145a-401e-95ff-ccb259e8ef84",
    "ExecuteTime": {
     "end_time": "2025-02-14T04:19:35.899975Z",
     "start_time": "2025-02-14T04:19:35.890665Z"
    }
   },
   "source": [
    "DEEPSEEK_MODELS: Dict[str, int] = {\n",
    "    \"deepseek-chat\": 128000,\n",
    "}\n",
    "ALL_AVAILABLE_MODELS.update(DEEPSEEK_MODELS)\n",
    "CHAT_MODELS.update(DEEPSEEK_MODELS)\n",
    "\n",
    "llm = DeepSeeK(api_key=\"sk-c1009de14bb44732b20a8426dadc2f65\",\n",
    "                 model=\"deepseek-chat\",\n",
    "                 api_base=\"https://api.deepseek.com/v1\",\n",
    "                 temperature=0.5)\n",
    "Settings.llm = llm"
   ],
   "outputs": [],
   "execution_count": 5
  },
  {
   "cell_type": "markdown",
   "id": "a3d4e638",
   "metadata": {
    "id": "a3d4e638"
   },
   "source": "### 准备数据\n"
  },
  {
   "metadata": {},
   "cell_type": "markdown",
   "source": "pdf、md、txt等格式数据",
   "id": "c30b47fce0de6cb8"
  },
  {
   "cell_type": "markdown",
   "id": "59ff935d",
   "metadata": {
    "id": "59ff935d"
   },
   "source": "## Getting Started\n"
  },
  {
   "cell_type": "code",
   "id": "68cbd239-880e-41a3-98d8-dbb3fab55431",
   "metadata": {
    "id": "68cbd239-880e-41a3-98d8-dbb3fab55431",
    "outputId": "3bb5122b-ac5f-4ddd-9983-66e367ddc6a5",
    "ExecuteTime": {
     "end_time": "2025-02-14T04:19:42.609518Z",
     "start_time": "2025-02-14T04:19:42.470465Z"
    }
   },
   "source": [
    "from llama_index.core import SimpleDirectoryReader\n",
    "\n",
    "# load documents\n",
    "documents = SimpleDirectoryReader(\n",
    "    input_files=[\"./data/lanzhou.txt\"]\n",
    ").load_data()\n",
    "\n",
    "print(\"Document ID:\", documents[0].doc_id)"
   ],
   "outputs": [
    {
     "name": "stdout",
     "output_type": "stream",
     "text": [
      "Document ID: 5088dc90-76bd-42fe-8728-9ab6c3df3236\n"
     ]
    }
   ],
   "execution_count": 6
  },
  {
   "cell_type": "markdown",
   "id": "dd270925",
   "metadata": {
    "id": "dd270925"
   },
   "source": [
    "### Create an index across the data\n",
    "\n",
    "Now that we have a document, we can can create an index and insert the document.\n",
    "\n",
    "> Please note that **Milvus Lite** requires `pymilvus>=2.4.2`."
   ]
  },
  {
   "cell_type": "code",
   "id": "ba1558b3",
   "metadata": {
    "id": "ba1558b3",
    "ExecuteTime": {
     "end_time": "2025-02-14T04:21:32.333852Z",
     "start_time": "2025-02-14T04:21:30.839961Z"
    }
   },
   "source": [
    "# Create an index over the documents\n",
    "from llama_index.core import VectorStoreIndex, StorageContext\n",
    "from llama_index.vector_stores.milvus import MilvusVectorStore\n",
    "\n",
    "\n",
    "vector_store = MilvusVectorStore(uri=\"./milvus_demo.db\", dim=1536, overwrite=True)\n",
    "storage_context = StorageContext.from_defaults(vector_store=vector_store)\n",
    "index = VectorStoreIndex.from_documents(documents, storage_context=storage_context)"
   ],
   "outputs": [
    {
     "name": "stderr",
     "output_type": "stream",
     "text": [
      "2025-02-14 12:21:31,036 [ERROR][_create_connection]: Failed to create new connection using: 47d4d6c1ed2d4205bdd2dcb07d814099 (milvus_client.py:920)\n"
     ]
    },
    {
     "ename": "ModuleNotFoundError",
     "evalue": "No module named 'milvus_lite'",
     "output_type": "error",
     "traceback": [
      "\u001B[1;31m---------------------------------------------------------------------------\u001B[0m",
      "\u001B[1;31mModuleNotFoundError\u001B[0m                       Traceback (most recent call last)",
      "    \u001B[1;31m[... skipping hidden 1 frame]\u001B[0m\n",
      "Cell \u001B[1;32mIn[8], line 6\u001B[0m\n\u001B[0;32m      3\u001B[0m \u001B[38;5;28;01mfrom\u001B[39;00m\u001B[38;5;250m \u001B[39m\u001B[38;5;21;01mllama_index\u001B[39;00m\u001B[38;5;21;01m.\u001B[39;00m\u001B[38;5;21;01mvector_stores\u001B[39;00m\u001B[38;5;21;01m.\u001B[39;00m\u001B[38;5;21;01mmilvus\u001B[39;00m\u001B[38;5;250m \u001B[39m\u001B[38;5;28;01mimport\u001B[39;00m MilvusVectorStore\n\u001B[1;32m----> 6\u001B[0m vector_store \u001B[38;5;241m=\u001B[39m \u001B[43mMilvusVectorStore\u001B[49m\u001B[43m(\u001B[49m\u001B[43muri\u001B[49m\u001B[38;5;241;43m=\u001B[39;49m\u001B[38;5;124;43m\"\u001B[39;49m\u001B[38;5;124;43m./milvus_demo.db\u001B[39;49m\u001B[38;5;124;43m\"\u001B[39;49m\u001B[43m,\u001B[49m\u001B[43m \u001B[49m\u001B[43mdim\u001B[49m\u001B[38;5;241;43m=\u001B[39;49m\u001B[38;5;241;43m1536\u001B[39;49m\u001B[43m,\u001B[49m\u001B[43m \u001B[49m\u001B[43moverwrite\u001B[49m\u001B[38;5;241;43m=\u001B[39;49m\u001B[38;5;28;43;01mTrue\u001B[39;49;00m\u001B[43m)\u001B[49m\n\u001B[0;32m      7\u001B[0m storage_context \u001B[38;5;241m=\u001B[39m StorageContext\u001B[38;5;241m.\u001B[39mfrom_defaults(vector_store\u001B[38;5;241m=\u001B[39mvector_store)\n",
      "File \u001B[1;32m~\\Desktop\\workspace\\AI\\ai_testing_002\\.venv\\Lib\\site-packages\\llama_index\\vector_stores\\milvus\\base.py:280\u001B[0m, in \u001B[0;36mMilvusVectorStore.__init__\u001B[1;34m(self, uri, token, collection_name, dim, embedding_field, doc_id_field, similarity_metric, consistency_level, overwrite, text_key, output_fields, index_config, search_config, collection_properties, batch_size, enable_sparse, sparse_embedding_function, hybrid_ranker, hybrid_ranker_params, index_management, scalar_field_names, scalar_field_types, **kwargs)\u001B[0m\n\u001B[0;32m    279\u001B[0m \u001B[38;5;66;03m# Connect to Milvus instance\u001B[39;00m\n\u001B[1;32m--> 280\u001B[0m \u001B[38;5;28mself\u001B[39m\u001B[38;5;241m.\u001B[39m_milvusclient \u001B[38;5;241m=\u001B[39m \u001B[43mMilvusClient\u001B[49m\u001B[43m(\u001B[49m\n\u001B[0;32m    281\u001B[0m \u001B[43m    \u001B[49m\u001B[43muri\u001B[49m\u001B[38;5;241;43m=\u001B[39;49m\u001B[43muri\u001B[49m\u001B[43m,\u001B[49m\n\u001B[0;32m    282\u001B[0m \u001B[43m    \u001B[49m\u001B[43mtoken\u001B[49m\u001B[38;5;241;43m=\u001B[39;49m\u001B[43mtoken\u001B[49m\u001B[43m,\u001B[49m\n\u001B[0;32m    283\u001B[0m \u001B[43m    \u001B[49m\u001B[38;5;241;43m*\u001B[39;49m\u001B[38;5;241;43m*\u001B[39;49m\u001B[43mkwargs\u001B[49m\u001B[43m,\u001B[49m\u001B[43m  \u001B[49m\u001B[38;5;66;43;03m# pass additional arguments such as server_pem_path\u001B[39;49;00m\n\u001B[0;32m    284\u001B[0m \u001B[43m\u001B[49m\u001B[43m)\u001B[49m\n\u001B[0;32m    285\u001B[0m \u001B[38;5;28mself\u001B[39m\u001B[38;5;241m.\u001B[39m_async_milvusclient \u001B[38;5;241m=\u001B[39m AsyncMilvusClient(\n\u001B[0;32m    286\u001B[0m     uri\u001B[38;5;241m=\u001B[39muri,\n\u001B[0;32m    287\u001B[0m     token\u001B[38;5;241m=\u001B[39mtoken,\n\u001B[0;32m    288\u001B[0m     \u001B[38;5;241m*\u001B[39m\u001B[38;5;241m*\u001B[39mkwargs,  \u001B[38;5;66;03m# pass additional arguments such as server_pem_path\u001B[39;00m\n\u001B[0;32m    289\u001B[0m )\n",
      "File \u001B[1;32m~\\Desktop\\workspace\\AI\\ai_testing_002\\.venv\\Lib\\site-packages\\pymilvus\\milvus_client\\milvus_client.py:66\u001B[0m, in \u001B[0;36mMilvusClient.__init__\u001B[1;34m(self, uri, user, password, db_name, token, timeout, **kwargs)\u001B[0m\n\u001B[0;32m     54\u001B[0m \u001B[38;5;250m\u001B[39m\u001B[38;5;124;03m\"\"\"A client for the common Milvus use case.\u001B[39;00m\n\u001B[0;32m     55\u001B[0m \n\u001B[0;32m     56\u001B[0m \u001B[38;5;124;03mThis client attempts to hide away the complexity of using Pymilvus. In a lot ofcases what\u001B[39;00m\n\u001B[1;32m   (...)\u001B[0m\n\u001B[0;32m     64\u001B[0m \u001B[38;5;124;03m        to None.\u001B[39;00m\n\u001B[0;32m     65\u001B[0m \u001B[38;5;124;03m\"\"\"\u001B[39;00m\n\u001B[1;32m---> 66\u001B[0m \u001B[38;5;28mself\u001B[39m\u001B[38;5;241m.\u001B[39m_using \u001B[38;5;241m=\u001B[39m \u001B[38;5;28;43mself\u001B[39;49m\u001B[38;5;241;43m.\u001B[39;49m\u001B[43m_create_connection\u001B[49m\u001B[43m(\u001B[49m\n\u001B[0;32m     67\u001B[0m \u001B[43m    \u001B[49m\u001B[43muri\u001B[49m\u001B[43m,\u001B[49m\u001B[43m \u001B[49m\u001B[43muser\u001B[49m\u001B[43m,\u001B[49m\u001B[43m \u001B[49m\u001B[43mpassword\u001B[49m\u001B[43m,\u001B[49m\u001B[43m \u001B[49m\u001B[43mdb_name\u001B[49m\u001B[43m,\u001B[49m\u001B[43m \u001B[49m\u001B[43mtoken\u001B[49m\u001B[43m,\u001B[49m\u001B[43m \u001B[49m\u001B[43mtimeout\u001B[49m\u001B[38;5;241;43m=\u001B[39;49m\u001B[43mtimeout\u001B[49m\u001B[43m,\u001B[49m\u001B[43m \u001B[49m\u001B[38;5;241;43m*\u001B[39;49m\u001B[38;5;241;43m*\u001B[39;49m\u001B[43mkwargs\u001B[49m\n\u001B[0;32m     68\u001B[0m \u001B[43m\u001B[49m\u001B[43m)\u001B[49m\n\u001B[0;32m     69\u001B[0m \u001B[38;5;28mself\u001B[39m\u001B[38;5;241m.\u001B[39mis_self_hosted \u001B[38;5;241m=\u001B[39m \u001B[38;5;28mbool\u001B[39m(utility\u001B[38;5;241m.\u001B[39mget_server_type(using\u001B[38;5;241m=\u001B[39m\u001B[38;5;28mself\u001B[39m\u001B[38;5;241m.\u001B[39m_using) \u001B[38;5;241m==\u001B[39m \u001B[38;5;124m\"\u001B[39m\u001B[38;5;124mmilvus\u001B[39m\u001B[38;5;124m\"\u001B[39m)\n",
      "File \u001B[1;32m~\\Desktop\\workspace\\AI\\ai_testing_002\\.venv\\Lib\\site-packages\\pymilvus\\milvus_client\\milvus_client.py:921\u001B[0m, in \u001B[0;36mMilvusClient._create_connection\u001B[1;34m(self, uri, user, password, db_name, token, **kwargs)\u001B[0m\n\u001B[0;32m    920\u001B[0m     logger\u001B[38;5;241m.\u001B[39merror(\u001B[38;5;124m\"\u001B[39m\u001B[38;5;124mFailed to create new connection using: \u001B[39m\u001B[38;5;132;01m%s\u001B[39;00m\u001B[38;5;124m\"\u001B[39m, using)\n\u001B[1;32m--> 921\u001B[0m     \u001B[38;5;28;01mraise\u001B[39;00m ex \u001B[38;5;28;01mfrom\u001B[39;00m\u001B[38;5;250m \u001B[39m\u001B[38;5;21;01mex\u001B[39;00m\n\u001B[0;32m    922\u001B[0m \u001B[38;5;28;01melse\u001B[39;00m:\n",
      "File \u001B[1;32m~\\Desktop\\workspace\\AI\\ai_testing_002\\.venv\\Lib\\site-packages\\pymilvus\\milvus_client\\milvus_client.py:918\u001B[0m, in \u001B[0;36mMilvusClient._create_connection\u001B[1;34m(self, uri, user, password, db_name, token, **kwargs)\u001B[0m\n\u001B[0;32m    917\u001B[0m \u001B[38;5;28;01mtry\u001B[39;00m:\n\u001B[1;32m--> 918\u001B[0m     \u001B[43mconnections\u001B[49m\u001B[38;5;241;43m.\u001B[39;49m\u001B[43mconnect\u001B[49m\u001B[43m(\u001B[49m\u001B[43musing\u001B[49m\u001B[43m,\u001B[49m\u001B[43m \u001B[49m\u001B[43muser\u001B[49m\u001B[43m,\u001B[49m\u001B[43m \u001B[49m\u001B[43mpassword\u001B[49m\u001B[43m,\u001B[49m\u001B[43m \u001B[49m\u001B[43mdb_name\u001B[49m\u001B[43m,\u001B[49m\u001B[43m \u001B[49m\u001B[43mtoken\u001B[49m\u001B[43m,\u001B[49m\u001B[43m \u001B[49m\u001B[43muri\u001B[49m\u001B[38;5;241;43m=\u001B[39;49m\u001B[43muri\u001B[49m\u001B[43m,\u001B[49m\u001B[43m \u001B[49m\u001B[38;5;241;43m*\u001B[39;49m\u001B[38;5;241;43m*\u001B[39;49m\u001B[43mkwargs\u001B[49m\u001B[43m)\u001B[49m\n\u001B[0;32m    919\u001B[0m \u001B[38;5;28;01mexcept\u001B[39;00m \u001B[38;5;167;01mException\u001B[39;00m \u001B[38;5;28;01mas\u001B[39;00m ex:\n",
      "File \u001B[1;32m~\\Desktop\\workspace\\AI\\ai_testing_002\\.venv\\Lib\\site-packages\\pymilvus\\orm\\connections.py:388\u001B[0m, in \u001B[0;36mConnections.connect\u001B[1;34m(self, alias, user, password, db_name, token, _async, **kwargs)\u001B[0m\n\u001B[0;32m    384\u001B[0m     \u001B[38;5;28;01mraise\u001B[39;00m ConnectionConfigException(\n\u001B[0;32m    385\u001B[0m         message\u001B[38;5;241m=\u001B[39m\u001B[38;5;124mf\u001B[39m\u001B[38;5;124m\"\u001B[39m\u001B[38;5;124mOpen local milvus failed, dir: \u001B[39m\u001B[38;5;132;01m{\u001B[39;00mparent_path\u001B[38;5;132;01m}\u001B[39;00m\u001B[38;5;124m not exists\u001B[39m\u001B[38;5;124m\"\u001B[39m\n\u001B[0;32m    386\u001B[0m     )\n\u001B[1;32m--> 388\u001B[0m \u001B[38;5;28;01mfrom\u001B[39;00m\u001B[38;5;250m \u001B[39m\u001B[38;5;21;01mmilvus_lite\u001B[39;00m\u001B[38;5;21;01m.\u001B[39;00m\u001B[38;5;21;01mserver_manager\u001B[39;00m\u001B[38;5;250m \u001B[39m\u001B[38;5;28;01mimport\u001B[39;00m (\n\u001B[0;32m    389\u001B[0m     server_manager_instance,\n\u001B[0;32m    390\u001B[0m )\n\u001B[0;32m    392\u001B[0m local_uri \u001B[38;5;241m=\u001B[39m server_manager_instance\u001B[38;5;241m.\u001B[39mstart_and_get_uri(kwargs[\u001B[38;5;124m\"\u001B[39m\u001B[38;5;124muri\u001B[39m\u001B[38;5;124m\"\u001B[39m])\n",
      "\u001B[1;31mModuleNotFoundError\u001B[0m: No module named 'milvus_lite'",
      "\nThe above exception was the direct cause of the following exception:\n",
      "\u001B[1;31mModuleNotFoundError\u001B[0m                       Traceback (most recent call last)",
      "    \u001B[1;31m[... skipping hidden 1 frame]\u001B[0m\n",
      "Cell \u001B[1;32mIn[8], line 6\u001B[0m\n\u001B[0;32m      3\u001B[0m \u001B[38;5;28;01mfrom\u001B[39;00m\u001B[38;5;250m \u001B[39m\u001B[38;5;21;01mllama_index\u001B[39;00m\u001B[38;5;21;01m.\u001B[39;00m\u001B[38;5;21;01mvector_stores\u001B[39;00m\u001B[38;5;21;01m.\u001B[39;00m\u001B[38;5;21;01mmilvus\u001B[39;00m\u001B[38;5;250m \u001B[39m\u001B[38;5;28;01mimport\u001B[39;00m MilvusVectorStore\n\u001B[1;32m----> 6\u001B[0m vector_store \u001B[38;5;241m=\u001B[39m \u001B[43mMilvusVectorStore\u001B[49m\u001B[43m(\u001B[49m\u001B[43muri\u001B[49m\u001B[38;5;241;43m=\u001B[39;49m\u001B[38;5;124;43m\"\u001B[39;49m\u001B[38;5;124;43m./milvus_demo.db\u001B[39;49m\u001B[38;5;124;43m\"\u001B[39;49m\u001B[43m,\u001B[49m\u001B[43m \u001B[49m\u001B[43mdim\u001B[49m\u001B[38;5;241;43m=\u001B[39;49m\u001B[38;5;241;43m1536\u001B[39;49m\u001B[43m,\u001B[49m\u001B[43m \u001B[49m\u001B[43moverwrite\u001B[49m\u001B[38;5;241;43m=\u001B[39;49m\u001B[38;5;28;43;01mTrue\u001B[39;49;00m\u001B[43m)\u001B[49m\n\u001B[0;32m      7\u001B[0m storage_context \u001B[38;5;241m=\u001B[39m StorageContext\u001B[38;5;241m.\u001B[39mfrom_defaults(vector_store\u001B[38;5;241m=\u001B[39mvector_store)\n",
      "File \u001B[1;32m~\\Desktop\\workspace\\AI\\ai_testing_002\\.venv\\Lib\\site-packages\\llama_index\\vector_stores\\milvus\\base.py:280\u001B[0m, in \u001B[0;36mMilvusVectorStore.__init__\u001B[1;34m(self, uri, token, collection_name, dim, embedding_field, doc_id_field, similarity_metric, consistency_level, overwrite, text_key, output_fields, index_config, search_config, collection_properties, batch_size, enable_sparse, sparse_embedding_function, hybrid_ranker, hybrid_ranker_params, index_management, scalar_field_names, scalar_field_types, **kwargs)\u001B[0m\n\u001B[0;32m    279\u001B[0m \u001B[38;5;66;03m# Connect to Milvus instance\u001B[39;00m\n\u001B[1;32m--> 280\u001B[0m \u001B[38;5;28mself\u001B[39m\u001B[38;5;241m.\u001B[39m_milvusclient \u001B[38;5;241m=\u001B[39m \u001B[43mMilvusClient\u001B[49m\u001B[43m(\u001B[49m\n\u001B[0;32m    281\u001B[0m \u001B[43m    \u001B[49m\u001B[43muri\u001B[49m\u001B[38;5;241;43m=\u001B[39;49m\u001B[43muri\u001B[49m\u001B[43m,\u001B[49m\n\u001B[0;32m    282\u001B[0m \u001B[43m    \u001B[49m\u001B[43mtoken\u001B[49m\u001B[38;5;241;43m=\u001B[39;49m\u001B[43mtoken\u001B[49m\u001B[43m,\u001B[49m\n\u001B[0;32m    283\u001B[0m \u001B[43m    \u001B[49m\u001B[38;5;241;43m*\u001B[39;49m\u001B[38;5;241;43m*\u001B[39;49m\u001B[43mkwargs\u001B[49m\u001B[43m,\u001B[49m\u001B[43m  \u001B[49m\u001B[38;5;66;43;03m# pass additional arguments such as server_pem_path\u001B[39;49;00m\n\u001B[0;32m    284\u001B[0m \u001B[43m\u001B[49m\u001B[43m)\u001B[49m\n\u001B[0;32m    285\u001B[0m \u001B[38;5;28mself\u001B[39m\u001B[38;5;241m.\u001B[39m_async_milvusclient \u001B[38;5;241m=\u001B[39m AsyncMilvusClient(\n\u001B[0;32m    286\u001B[0m     uri\u001B[38;5;241m=\u001B[39muri,\n\u001B[0;32m    287\u001B[0m     token\u001B[38;5;241m=\u001B[39mtoken,\n\u001B[0;32m    288\u001B[0m     \u001B[38;5;241m*\u001B[39m\u001B[38;5;241m*\u001B[39mkwargs,  \u001B[38;5;66;03m# pass additional arguments such as server_pem_path\u001B[39;00m\n\u001B[0;32m    289\u001B[0m )\n",
      "File \u001B[1;32m~\\Desktop\\workspace\\AI\\ai_testing_002\\.venv\\Lib\\site-packages\\pymilvus\\milvus_client\\milvus_client.py:66\u001B[0m, in \u001B[0;36mMilvusClient.__init__\u001B[1;34m(self, uri, user, password, db_name, token, timeout, **kwargs)\u001B[0m\n\u001B[0;32m     54\u001B[0m \u001B[38;5;250m\u001B[39m\u001B[38;5;124;03m\"\"\"A client for the common Milvus use case.\u001B[39;00m\n\u001B[0;32m     55\u001B[0m \n\u001B[0;32m     56\u001B[0m \u001B[38;5;124;03mThis client attempts to hide away the complexity of using Pymilvus. In a lot ofcases what\u001B[39;00m\n\u001B[1;32m   (...)\u001B[0m\n\u001B[0;32m     64\u001B[0m \u001B[38;5;124;03m        to None.\u001B[39;00m\n\u001B[0;32m     65\u001B[0m \u001B[38;5;124;03m\"\"\"\u001B[39;00m\n\u001B[1;32m---> 66\u001B[0m \u001B[38;5;28mself\u001B[39m\u001B[38;5;241m.\u001B[39m_using \u001B[38;5;241m=\u001B[39m \u001B[38;5;28;43mself\u001B[39;49m\u001B[38;5;241;43m.\u001B[39;49m\u001B[43m_create_connection\u001B[49m\u001B[43m(\u001B[49m\n\u001B[0;32m     67\u001B[0m \u001B[43m    \u001B[49m\u001B[43muri\u001B[49m\u001B[43m,\u001B[49m\u001B[43m \u001B[49m\u001B[43muser\u001B[49m\u001B[43m,\u001B[49m\u001B[43m \u001B[49m\u001B[43mpassword\u001B[49m\u001B[43m,\u001B[49m\u001B[43m \u001B[49m\u001B[43mdb_name\u001B[49m\u001B[43m,\u001B[49m\u001B[43m \u001B[49m\u001B[43mtoken\u001B[49m\u001B[43m,\u001B[49m\u001B[43m \u001B[49m\u001B[43mtimeout\u001B[49m\u001B[38;5;241;43m=\u001B[39;49m\u001B[43mtimeout\u001B[49m\u001B[43m,\u001B[49m\u001B[43m \u001B[49m\u001B[38;5;241;43m*\u001B[39;49m\u001B[38;5;241;43m*\u001B[39;49m\u001B[43mkwargs\u001B[49m\n\u001B[0;32m     68\u001B[0m \u001B[43m\u001B[49m\u001B[43m)\u001B[49m\n\u001B[0;32m     69\u001B[0m \u001B[38;5;28mself\u001B[39m\u001B[38;5;241m.\u001B[39mis_self_hosted \u001B[38;5;241m=\u001B[39m \u001B[38;5;28mbool\u001B[39m(utility\u001B[38;5;241m.\u001B[39mget_server_type(using\u001B[38;5;241m=\u001B[39m\u001B[38;5;28mself\u001B[39m\u001B[38;5;241m.\u001B[39m_using) \u001B[38;5;241m==\u001B[39m \u001B[38;5;124m\"\u001B[39m\u001B[38;5;124mmilvus\u001B[39m\u001B[38;5;124m\"\u001B[39m)\n",
      "File \u001B[1;32m~\\Desktop\\workspace\\AI\\ai_testing_002\\.venv\\Lib\\site-packages\\pymilvus\\milvus_client\\milvus_client.py:921\u001B[0m, in \u001B[0;36mMilvusClient._create_connection\u001B[1;34m(self, uri, user, password, db_name, token, **kwargs)\u001B[0m\n\u001B[0;32m    920\u001B[0m     logger\u001B[38;5;241m.\u001B[39merror(\u001B[38;5;124m\"\u001B[39m\u001B[38;5;124mFailed to create new connection using: \u001B[39m\u001B[38;5;132;01m%s\u001B[39;00m\u001B[38;5;124m\"\u001B[39m, using)\n\u001B[1;32m--> 921\u001B[0m     \u001B[38;5;28;01mraise\u001B[39;00m ex \u001B[38;5;28;01mfrom\u001B[39;00m\u001B[38;5;250m \u001B[39m\u001B[38;5;21;01mex\u001B[39;00m\n\u001B[0;32m    922\u001B[0m \u001B[38;5;28;01melse\u001B[39;00m:\n",
      "File \u001B[1;32m~\\Desktop\\workspace\\AI\\ai_testing_002\\.venv\\Lib\\site-packages\\pymilvus\\milvus_client\\milvus_client.py:918\u001B[0m, in \u001B[0;36mMilvusClient._create_connection\u001B[1;34m(self, uri, user, password, db_name, token, **kwargs)\u001B[0m\n\u001B[0;32m    917\u001B[0m \u001B[38;5;28;01mtry\u001B[39;00m:\n\u001B[1;32m--> 918\u001B[0m     \u001B[43mconnections\u001B[49m\u001B[38;5;241;43m.\u001B[39;49m\u001B[43mconnect\u001B[49m\u001B[43m(\u001B[49m\u001B[43musing\u001B[49m\u001B[43m,\u001B[49m\u001B[43m \u001B[49m\u001B[43muser\u001B[49m\u001B[43m,\u001B[49m\u001B[43m \u001B[49m\u001B[43mpassword\u001B[49m\u001B[43m,\u001B[49m\u001B[43m \u001B[49m\u001B[43mdb_name\u001B[49m\u001B[43m,\u001B[49m\u001B[43m \u001B[49m\u001B[43mtoken\u001B[49m\u001B[43m,\u001B[49m\u001B[43m \u001B[49m\u001B[43muri\u001B[49m\u001B[38;5;241;43m=\u001B[39;49m\u001B[43muri\u001B[49m\u001B[43m,\u001B[49m\u001B[43m \u001B[49m\u001B[38;5;241;43m*\u001B[39;49m\u001B[38;5;241;43m*\u001B[39;49m\u001B[43mkwargs\u001B[49m\u001B[43m)\u001B[49m\n\u001B[0;32m    919\u001B[0m \u001B[38;5;28;01mexcept\u001B[39;00m \u001B[38;5;167;01mException\u001B[39;00m \u001B[38;5;28;01mas\u001B[39;00m ex:\n",
      "File \u001B[1;32m~\\Desktop\\workspace\\AI\\ai_testing_002\\.venv\\Lib\\site-packages\\pymilvus\\orm\\connections.py:388\u001B[0m, in \u001B[0;36mConnections.connect\u001B[1;34m(self, alias, user, password, db_name, token, _async, **kwargs)\u001B[0m\n\u001B[0;32m    384\u001B[0m     \u001B[38;5;28;01mraise\u001B[39;00m ConnectionConfigException(\n\u001B[0;32m    385\u001B[0m         message\u001B[38;5;241m=\u001B[39m\u001B[38;5;124mf\u001B[39m\u001B[38;5;124m\"\u001B[39m\u001B[38;5;124mOpen local milvus failed, dir: \u001B[39m\u001B[38;5;132;01m{\u001B[39;00mparent_path\u001B[38;5;132;01m}\u001B[39;00m\u001B[38;5;124m not exists\u001B[39m\u001B[38;5;124m\"\u001B[39m\n\u001B[0;32m    386\u001B[0m     )\n\u001B[1;32m--> 388\u001B[0m \u001B[38;5;28;01mfrom\u001B[39;00m\u001B[38;5;250m \u001B[39m\u001B[38;5;21;01mmilvus_lite\u001B[39;00m\u001B[38;5;21;01m.\u001B[39;00m\u001B[38;5;21;01mserver_manager\u001B[39;00m\u001B[38;5;250m \u001B[39m\u001B[38;5;28;01mimport\u001B[39;00m (\n\u001B[0;32m    389\u001B[0m     server_manager_instance,\n\u001B[0;32m    390\u001B[0m )\n\u001B[0;32m    392\u001B[0m local_uri \u001B[38;5;241m=\u001B[39m server_manager_instance\u001B[38;5;241m.\u001B[39mstart_and_get_uri(kwargs[\u001B[38;5;124m\"\u001B[39m\u001B[38;5;124muri\u001B[39m\u001B[38;5;124m\"\u001B[39m])\n",
      "\u001B[1;31mModuleNotFoundError\u001B[0m: No module named 'milvus_lite'",
      "\nThe above exception was the direct cause of the following exception:\n",
      "\u001B[1;31mModuleNotFoundError\u001B[0m                       Traceback (most recent call last)",
      "Cell \u001B[1;32mIn[8], line 6\u001B[0m\n\u001B[0;32m      2\u001B[0m \u001B[38;5;28;01mfrom\u001B[39;00m\u001B[38;5;250m \u001B[39m\u001B[38;5;21;01mllama_index\u001B[39;00m\u001B[38;5;21;01m.\u001B[39;00m\u001B[38;5;21;01mcore\u001B[39;00m\u001B[38;5;250m \u001B[39m\u001B[38;5;28;01mimport\u001B[39;00m VectorStoreIndex, StorageContext\n\u001B[0;32m      3\u001B[0m \u001B[38;5;28;01mfrom\u001B[39;00m\u001B[38;5;250m \u001B[39m\u001B[38;5;21;01mllama_index\u001B[39;00m\u001B[38;5;21;01m.\u001B[39;00m\u001B[38;5;21;01mvector_stores\u001B[39;00m\u001B[38;5;21;01m.\u001B[39;00m\u001B[38;5;21;01mmilvus\u001B[39;00m\u001B[38;5;250m \u001B[39m\u001B[38;5;28;01mimport\u001B[39;00m MilvusVectorStore\n\u001B[1;32m----> 6\u001B[0m vector_store \u001B[38;5;241m=\u001B[39m \u001B[43mMilvusVectorStore\u001B[49m\u001B[43m(\u001B[49m\u001B[43muri\u001B[49m\u001B[38;5;241;43m=\u001B[39;49m\u001B[38;5;124;43m\"\u001B[39;49m\u001B[38;5;124;43m./milvus_demo.db\u001B[39;49m\u001B[38;5;124;43m\"\u001B[39;49m\u001B[43m,\u001B[49m\u001B[43m \u001B[49m\u001B[43mdim\u001B[49m\u001B[38;5;241;43m=\u001B[39;49m\u001B[38;5;241;43m1536\u001B[39;49m\u001B[43m,\u001B[49m\u001B[43m \u001B[49m\u001B[43moverwrite\u001B[49m\u001B[38;5;241;43m=\u001B[39;49m\u001B[38;5;28;43;01mTrue\u001B[39;49;00m\u001B[43m)\u001B[49m\n\u001B[0;32m      7\u001B[0m storage_context \u001B[38;5;241m=\u001B[39m StorageContext\u001B[38;5;241m.\u001B[39mfrom_defaults(vector_store\u001B[38;5;241m=\u001B[39mvector_store)\n\u001B[0;32m      8\u001B[0m index \u001B[38;5;241m=\u001B[39m VectorStoreIndex\u001B[38;5;241m.\u001B[39mfrom_documents(documents, storage_context\u001B[38;5;241m=\u001B[39mstorage_context)\n",
      "File \u001B[1;32m~\\Desktop\\workspace\\AI\\ai_testing_002\\.venv\\Lib\\site-packages\\llama_index\\vector_stores\\milvus\\base.py:280\u001B[0m, in \u001B[0;36mMilvusVectorStore.__init__\u001B[1;34m(self, uri, token, collection_name, dim, embedding_field, doc_id_field, similarity_metric, consistency_level, overwrite, text_key, output_fields, index_config, search_config, collection_properties, batch_size, enable_sparse, sparse_embedding_function, hybrid_ranker, hybrid_ranker_params, index_management, scalar_field_names, scalar_field_types, **kwargs)\u001B[0m\n\u001B[0;32m    276\u001B[0m \u001B[38;5;28mself\u001B[39m\u001B[38;5;241m.\u001B[39msimilarity_metric \u001B[38;5;241m=\u001B[39m similarity_metrics_map\u001B[38;5;241m.\u001B[39mget(\n\u001B[0;32m    277\u001B[0m     similarity_metric\u001B[38;5;241m.\u001B[39mlower(), \u001B[38;5;124m\"\u001B[39m\u001B[38;5;124mL2\u001B[39m\u001B[38;5;124m\"\u001B[39m\n\u001B[0;32m    278\u001B[0m )\n\u001B[0;32m    279\u001B[0m \u001B[38;5;66;03m# Connect to Milvus instance\u001B[39;00m\n\u001B[1;32m--> 280\u001B[0m \u001B[38;5;28mself\u001B[39m\u001B[38;5;241m.\u001B[39m_milvusclient \u001B[38;5;241m=\u001B[39m \u001B[43mMilvusClient\u001B[49m\u001B[43m(\u001B[49m\n\u001B[0;32m    281\u001B[0m \u001B[43m    \u001B[49m\u001B[43muri\u001B[49m\u001B[38;5;241;43m=\u001B[39;49m\u001B[43muri\u001B[49m\u001B[43m,\u001B[49m\n\u001B[0;32m    282\u001B[0m \u001B[43m    \u001B[49m\u001B[43mtoken\u001B[49m\u001B[38;5;241;43m=\u001B[39;49m\u001B[43mtoken\u001B[49m\u001B[43m,\u001B[49m\n\u001B[0;32m    283\u001B[0m \u001B[43m    \u001B[49m\u001B[38;5;241;43m*\u001B[39;49m\u001B[38;5;241;43m*\u001B[39;49m\u001B[43mkwargs\u001B[49m\u001B[43m,\u001B[49m\u001B[43m  \u001B[49m\u001B[38;5;66;43;03m# pass additional arguments such as server_pem_path\u001B[39;49;00m\n\u001B[0;32m    284\u001B[0m \u001B[43m\u001B[49m\u001B[43m)\u001B[49m\n\u001B[0;32m    285\u001B[0m \u001B[38;5;28mself\u001B[39m\u001B[38;5;241m.\u001B[39m_async_milvusclient \u001B[38;5;241m=\u001B[39m AsyncMilvusClient(\n\u001B[0;32m    286\u001B[0m     uri\u001B[38;5;241m=\u001B[39muri,\n\u001B[0;32m    287\u001B[0m     token\u001B[38;5;241m=\u001B[39mtoken,\n\u001B[0;32m    288\u001B[0m     \u001B[38;5;241m*\u001B[39m\u001B[38;5;241m*\u001B[39mkwargs,  \u001B[38;5;66;03m# pass additional arguments such as server_pem_path\u001B[39;00m\n\u001B[0;32m    289\u001B[0m )\n\u001B[0;32m    290\u001B[0m \u001B[38;5;66;03m# Delete previous collection if overwriting\u001B[39;00m\n",
      "File \u001B[1;32m~\\Desktop\\workspace\\AI\\ai_testing_002\\.venv\\Lib\\site-packages\\pymilvus\\milvus_client\\milvus_client.py:66\u001B[0m, in \u001B[0;36mMilvusClient.__init__\u001B[1;34m(self, uri, user, password, db_name, token, timeout, **kwargs)\u001B[0m\n\u001B[0;32m     44\u001B[0m \u001B[38;5;28;01mdef\u001B[39;00m\u001B[38;5;250m \u001B[39m\u001B[38;5;21m__init__\u001B[39m(\n\u001B[0;32m     45\u001B[0m     \u001B[38;5;28mself\u001B[39m,\n\u001B[0;32m     46\u001B[0m     uri: \u001B[38;5;28mstr\u001B[39m \u001B[38;5;241m=\u001B[39m \u001B[38;5;124m\"\u001B[39m\u001B[38;5;124mhttp://localhost:19530\u001B[39m\u001B[38;5;124m\"\u001B[39m,\n\u001B[1;32m   (...)\u001B[0m\n\u001B[0;32m     52\u001B[0m     \u001B[38;5;241m*\u001B[39m\u001B[38;5;241m*\u001B[39mkwargs,\n\u001B[0;32m     53\u001B[0m ) \u001B[38;5;241m-\u001B[39m\u001B[38;5;241m>\u001B[39m \u001B[38;5;28;01mNone\u001B[39;00m:\n\u001B[0;32m     54\u001B[0m \u001B[38;5;250m    \u001B[39m\u001B[38;5;124;03m\"\"\"A client for the common Milvus use case.\u001B[39;00m\n\u001B[0;32m     55\u001B[0m \n\u001B[0;32m     56\u001B[0m \u001B[38;5;124;03m    This client attempts to hide away the complexity of using Pymilvus. In a lot ofcases what\u001B[39;00m\n\u001B[1;32m   (...)\u001B[0m\n\u001B[0;32m     64\u001B[0m \u001B[38;5;124;03m            to None.\u001B[39;00m\n\u001B[0;32m     65\u001B[0m \u001B[38;5;124;03m    \"\"\"\u001B[39;00m\n\u001B[1;32m---> 66\u001B[0m     \u001B[38;5;28mself\u001B[39m\u001B[38;5;241m.\u001B[39m_using \u001B[38;5;241m=\u001B[39m \u001B[38;5;28;43mself\u001B[39;49m\u001B[38;5;241;43m.\u001B[39;49m\u001B[43m_create_connection\u001B[49m\u001B[43m(\u001B[49m\n\u001B[0;32m     67\u001B[0m \u001B[43m        \u001B[49m\u001B[43muri\u001B[49m\u001B[43m,\u001B[49m\u001B[43m \u001B[49m\u001B[43muser\u001B[49m\u001B[43m,\u001B[49m\u001B[43m \u001B[49m\u001B[43mpassword\u001B[49m\u001B[43m,\u001B[49m\u001B[43m \u001B[49m\u001B[43mdb_name\u001B[49m\u001B[43m,\u001B[49m\u001B[43m \u001B[49m\u001B[43mtoken\u001B[49m\u001B[43m,\u001B[49m\u001B[43m \u001B[49m\u001B[43mtimeout\u001B[49m\u001B[38;5;241;43m=\u001B[39;49m\u001B[43mtimeout\u001B[49m\u001B[43m,\u001B[49m\u001B[43m \u001B[49m\u001B[38;5;241;43m*\u001B[39;49m\u001B[38;5;241;43m*\u001B[39;49m\u001B[43mkwargs\u001B[49m\n\u001B[0;32m     68\u001B[0m \u001B[43m    \u001B[49m\u001B[43m)\u001B[49m\n\u001B[0;32m     69\u001B[0m     \u001B[38;5;28mself\u001B[39m\u001B[38;5;241m.\u001B[39mis_self_hosted \u001B[38;5;241m=\u001B[39m \u001B[38;5;28mbool\u001B[39m(utility\u001B[38;5;241m.\u001B[39mget_server_type(using\u001B[38;5;241m=\u001B[39m\u001B[38;5;28mself\u001B[39m\u001B[38;5;241m.\u001B[39m_using) \u001B[38;5;241m==\u001B[39m \u001B[38;5;124m\"\u001B[39m\u001B[38;5;124mmilvus\u001B[39m\u001B[38;5;124m\"\u001B[39m)\n",
      "File \u001B[1;32m~\\Desktop\\workspace\\AI\\ai_testing_002\\.venv\\Lib\\site-packages\\pymilvus\\milvus_client\\milvus_client.py:921\u001B[0m, in \u001B[0;36mMilvusClient._create_connection\u001B[1;34m(self, uri, user, password, db_name, token, **kwargs)\u001B[0m\n\u001B[0;32m    919\u001B[0m \u001B[38;5;28;01mexcept\u001B[39;00m \u001B[38;5;167;01mException\u001B[39;00m \u001B[38;5;28;01mas\u001B[39;00m ex:\n\u001B[0;32m    920\u001B[0m     logger\u001B[38;5;241m.\u001B[39merror(\u001B[38;5;124m\"\u001B[39m\u001B[38;5;124mFailed to create new connection using: \u001B[39m\u001B[38;5;132;01m%s\u001B[39;00m\u001B[38;5;124m\"\u001B[39m, using)\n\u001B[1;32m--> 921\u001B[0m     \u001B[38;5;28;01mraise\u001B[39;00m ex \u001B[38;5;28;01mfrom\u001B[39;00m\u001B[38;5;250m \u001B[39m\u001B[38;5;21;01mex\u001B[39;00m\n\u001B[0;32m    922\u001B[0m \u001B[38;5;28;01melse\u001B[39;00m:\n\u001B[0;32m    923\u001B[0m     logger\u001B[38;5;241m.\u001B[39mdebug(\u001B[38;5;124m\"\u001B[39m\u001B[38;5;124mCreated new connection using: \u001B[39m\u001B[38;5;132;01m%s\u001B[39;00m\u001B[38;5;124m\"\u001B[39m, using)\n",
      "File \u001B[1;32m~\\Desktop\\workspace\\AI\\ai_testing_002\\.venv\\Lib\\site-packages\\pymilvus\\milvus_client\\milvus_client.py:918\u001B[0m, in \u001B[0;36mMilvusClient._create_connection\u001B[1;34m(self, uri, user, password, db_name, token, **kwargs)\u001B[0m\n\u001B[0;32m    916\u001B[0m using \u001B[38;5;241m=\u001B[39m uuid4()\u001B[38;5;241m.\u001B[39mhex\n\u001B[0;32m    917\u001B[0m \u001B[38;5;28;01mtry\u001B[39;00m:\n\u001B[1;32m--> 918\u001B[0m     \u001B[43mconnections\u001B[49m\u001B[38;5;241;43m.\u001B[39;49m\u001B[43mconnect\u001B[49m\u001B[43m(\u001B[49m\u001B[43musing\u001B[49m\u001B[43m,\u001B[49m\u001B[43m \u001B[49m\u001B[43muser\u001B[49m\u001B[43m,\u001B[49m\u001B[43m \u001B[49m\u001B[43mpassword\u001B[49m\u001B[43m,\u001B[49m\u001B[43m \u001B[49m\u001B[43mdb_name\u001B[49m\u001B[43m,\u001B[49m\u001B[43m \u001B[49m\u001B[43mtoken\u001B[49m\u001B[43m,\u001B[49m\u001B[43m \u001B[49m\u001B[43muri\u001B[49m\u001B[38;5;241;43m=\u001B[39;49m\u001B[43muri\u001B[49m\u001B[43m,\u001B[49m\u001B[43m \u001B[49m\u001B[38;5;241;43m*\u001B[39;49m\u001B[38;5;241;43m*\u001B[39;49m\u001B[43mkwargs\u001B[49m\u001B[43m)\u001B[49m\n\u001B[0;32m    919\u001B[0m \u001B[38;5;28;01mexcept\u001B[39;00m \u001B[38;5;167;01mException\u001B[39;00m \u001B[38;5;28;01mas\u001B[39;00m ex:\n\u001B[0;32m    920\u001B[0m     logger\u001B[38;5;241m.\u001B[39merror(\u001B[38;5;124m\"\u001B[39m\u001B[38;5;124mFailed to create new connection using: \u001B[39m\u001B[38;5;132;01m%s\u001B[39;00m\u001B[38;5;124m\"\u001B[39m, using)\n",
      "File \u001B[1;32m~\\Desktop\\workspace\\AI\\ai_testing_002\\.venv\\Lib\\site-packages\\pymilvus\\orm\\connections.py:388\u001B[0m, in \u001B[0;36mConnections.connect\u001B[1;34m(self, alias, user, password, db_name, token, _async, **kwargs)\u001B[0m\n\u001B[0;32m    383\u001B[0m \u001B[38;5;28;01mif\u001B[39;00m \u001B[38;5;129;01mnot\u001B[39;00m parent_path\u001B[38;5;241m.\u001B[39mis_dir():\n\u001B[0;32m    384\u001B[0m     \u001B[38;5;28;01mraise\u001B[39;00m ConnectionConfigException(\n\u001B[0;32m    385\u001B[0m         message\u001B[38;5;241m=\u001B[39m\u001B[38;5;124mf\u001B[39m\u001B[38;5;124m\"\u001B[39m\u001B[38;5;124mOpen local milvus failed, dir: \u001B[39m\u001B[38;5;132;01m{\u001B[39;00mparent_path\u001B[38;5;132;01m}\u001B[39;00m\u001B[38;5;124m not exists\u001B[39m\u001B[38;5;124m\"\u001B[39m\n\u001B[0;32m    386\u001B[0m     )\n\u001B[1;32m--> 388\u001B[0m \u001B[38;5;28;01mfrom\u001B[39;00m\u001B[38;5;250m \u001B[39m\u001B[38;5;21;01mmilvus_lite\u001B[39;00m\u001B[38;5;21;01m.\u001B[39;00m\u001B[38;5;21;01mserver_manager\u001B[39;00m\u001B[38;5;250m \u001B[39m\u001B[38;5;28;01mimport\u001B[39;00m (\n\u001B[0;32m    389\u001B[0m     server_manager_instance,\n\u001B[0;32m    390\u001B[0m )\n\u001B[0;32m    392\u001B[0m local_uri \u001B[38;5;241m=\u001B[39m server_manager_instance\u001B[38;5;241m.\u001B[39mstart_and_get_uri(kwargs[\u001B[38;5;124m\"\u001B[39m\u001B[38;5;124muri\u001B[39m\u001B[38;5;124m\"\u001B[39m])\n\u001B[0;32m    393\u001B[0m \u001B[38;5;28;01mif\u001B[39;00m local_uri \u001B[38;5;129;01mis\u001B[39;00m \u001B[38;5;28;01mNone\u001B[39;00m:\n",
      "\u001B[1;31mModuleNotFoundError\u001B[0m: No module named 'milvus_lite'"
     ]
    }
   ],
   "execution_count": 8
  },
  {
   "cell_type": "markdown",
   "id": "a75a5773",
   "metadata": {
    "collapsed": false,
    "jupyter": {
     "outputs_hidden": false
    },
    "id": "a75a5773"
   },
   "source": [
    "> For the parameters of `MilvusVectorStore`:\n",
    "> - Setting the `uri` as a local file, e.g.`./milvus.db`, is the most convenient method, as it automatically utilizes [Milvus Lite](https://milvus.io/docs/milvus_lite.md) to store all data in this file.\n",
    "> - If you have large scale of data, you can set up a more performant Milvus server on [docker or kubernetes](https://milvus.io/docs/quickstart.md). In this setup, please use the server uri, e.g.`http://localhost:19530`, as your `uri`.\n",
    "> - If you want to use [Zilliz Cloud](https://zilliz.com/cloud), the fully managed cloud service for Milvus, adjust the `uri` and `token`, which correspond to the [Public Endpoint and Api key](https://docs.zilliz.com/docs/on-zilliz-cloud-console#free-cluster-details) in Zilliz Cloud."
   ]
  },
  {
   "cell_type": "markdown",
   "id": "04304299-fc3e-40a0-8600-f50c3292767e",
   "metadata": {
    "id": "04304299-fc3e-40a0-8600-f50c3292767e"
   },
   "source": [
    "### Query the data\n",
    "Now that we have our document stored in the index, we can ask questions against the index. The index will use the data stored in itself as the knowledge base for chatgpt."
   ]
  },
  {
   "cell_type": "code",
   "execution_count": null,
   "id": "35369eda",
   "metadata": {
    "id": "35369eda",
    "outputId": "577f98da-8dca-4336-ac5f-58cc7491998c"
   },
   "outputs": [
    {
     "name": "stdout",
     "output_type": "stream",
     "text": [
      "The author learned that philosophy courses in college were boring to him, leading him to switch his focus to studying AI.\n"
     ]
    }
   ],
   "source": [
    "query_engine = index.as_query_engine()\n",
    "res = query_engine.query(\"What did the author learn?\")\n",
    "print(res)"
   ]
  },
  {
   "cell_type": "code",
   "execution_count": null,
   "id": "99212d33",
   "metadata": {
    "id": "99212d33",
    "outputId": "1ad4cfa8-cef9-4c4f-9a7c-01abb7706cf1"
   },
   "outputs": [
    {
     "name": "stdout",
     "output_type": "stream",
     "text": [
      "The disease posed challenges for the author as it affected his mother's health, leading to a stroke caused by colon cancer. This resulted in her losing her balance and needing to be placed in a nursing home. The author and his sister were determined to help their mother get out of the nursing home and back to her house.\n"
     ]
    }
   ],
   "source": [
    "res = query_engine.query(\"What challenges did the disease pose for the author?\")\n",
    "print(res)"
   ]
  },
  {
   "cell_type": "markdown",
   "id": "64cc925b",
   "metadata": {
    "id": "64cc925b"
   },
   "source": [
    "This next test shows that overwriting removes the previous data."
   ]
  },
  {
   "cell_type": "code",
   "execution_count": null,
   "id": "8d641e24",
   "metadata": {
    "id": "8d641e24",
    "outputId": "0fc22492-b13b-4b32-cfb0-65ec2bd0df65"
   },
   "outputs": [
    {
     "name": "stdout",
     "output_type": "stream",
     "text": [
      "The author is the individual who created the context information.\n"
     ]
    }
   ],
   "source": [
    "from llama_index.core import Document\n",
    "\n",
    "\n",
    "vector_store = MilvusVectorStore(uri=\"./milvus_demo.db\", dim=1536, overwrite=True)\n",
    "storage_context = StorageContext.from_defaults(vector_store=vector_store)\n",
    "index = VectorStoreIndex.from_documents(\n",
    "    [Document(text=\"The number that is being searched for is ten.\")],\n",
    "    storage_context,\n",
    ")\n",
    "query_engine = index.as_query_engine()\n",
    "res = query_engine.query(\"Who is the author?\")\n",
    "print(res)"
   ]
  },
  {
   "cell_type": "markdown",
   "id": "d8123529",
   "metadata": {
    "id": "d8123529"
   },
   "source": [
    "The next test shows adding additional data to an already existing  index."
   ]
  },
  {
   "cell_type": "code",
   "execution_count": null,
   "id": "a5c429a4",
   "metadata": {
    "id": "a5c429a4",
    "outputId": "5703506d-9257-4e28-ed25-d0e07af85d70"
   },
   "outputs": [
    {
     "name": "stdout",
     "output_type": "stream",
     "text": [
      "The number is ten.\n"
     ]
    }
   ],
   "source": [
    "del index, vector_store, storage_context, query_engine\n",
    "\n",
    "vector_store = MilvusVectorStore(uri=\"./milvus_demo.db\", overwrite=False)\n",
    "storage_context = StorageContext.from_defaults(vector_store=vector_store)\n",
    "index = VectorStoreIndex.from_documents(documents, storage_context=storage_context)\n",
    "query_engine = index.as_query_engine()\n",
    "res = query_engine.query(\"What is the number?\")\n",
    "print(res)"
   ]
  },
  {
   "cell_type": "code",
   "execution_count": null,
   "id": "56ac3375-371b-4e5f-bac9-8124b6871429",
   "metadata": {
    "id": "56ac3375-371b-4e5f-bac9-8124b6871429",
    "outputId": "d2a94ce0-1c40-4770-d0d4-cf47673a00ca"
   },
   "outputs": [
    {
     "name": "stdout",
     "output_type": "stream",
     "text": [
      "Paul Graham\n"
     ]
    }
   ],
   "source": [
    "res = query_engine.query(\"Who is the author?\")\n",
    "print(res)"
   ]
  },
  {
   "cell_type": "markdown",
   "source": [
    "## Metadata filtering\n",
    "\n",
    "We can generate results by filtering specific sources. The following example illustrates loading all documents from the directory and subsequently filtering them based on metadata."
   ],
   "metadata": {
    "collapsed": false,
    "id": "A9cX8f8hoUcs"
   },
   "id": "A9cX8f8hoUcs"
  },
  {
   "cell_type": "code",
   "execution_count": null,
   "id": "2a845c5d-f10b-4fba-9cd2-e62871f836f3",
   "metadata": {
    "id": "2a845c5d-f10b-4fba-9cd2-e62871f836f3"
   },
   "outputs": [],
   "source": [
    "from llama_index.core.vector_stores import ExactMatchFilter, MetadataFilters\n",
    "\n",
    "# Load all the two documents loaded before\n",
    "documents_all = SimpleDirectoryReader(\"./data/\").load_data()\n",
    "\n",
    "vector_store = MilvusVectorStore(uri=\"./milvus_demo.db\", dim=1536, overwrite=True)\n",
    "storage_context = StorageContext.from_defaults(vector_store=vector_store)\n",
    "index = VectorStoreIndex.from_documents(documents_all, storage_context)"
   ]
  },
  {
   "cell_type": "markdown",
   "source": [
    "We want to only retrieve documents from the file `uber_2021.pdf`."
   ],
   "metadata": {
    "collapsed": false,
    "id": "KRqWpRZCoUcs"
   },
   "id": "KRqWpRZCoUcs"
  },
  {
   "cell_type": "code",
   "execution_count": null,
   "id": "d9f9bcb5-43de-4983-b754-a822ac7b5278",
   "metadata": {
    "id": "d9f9bcb5-43de-4983-b754-a822ac7b5278",
    "outputId": "7eb270d1-a2d0-4b8e-ae89-a9621066c693"
   },
   "outputs": [
    {
     "name": "stdout",
     "output_type": "stream",
     "text": [
      "The disease posed challenges related to the adverse impact on the business and operations, including reduced demand for Mobility offerings globally, affecting travel behavior and demand. Additionally, the pandemic led to driver supply constraints, impacted by concerns regarding COVID-19, with uncertainties about when supply levels would return to normal. The rise of the Omicron variant further affected travel, resulting in advisories and restrictions that could adversely impact both driver supply and consumer demand for Mobility offerings.\n"
     ]
    }
   ],
   "source": [
    "filters = MetadataFilters(\n",
    "    filters=[ExactMatchFilter(key=\"file_name\", value=\"uber_2021.pdf\")]\n",
    ")\n",
    "query_engine = index.as_query_engine(filters=filters)\n",
    "res = query_engine.query(\"What challenges did the disease pose for the author?\")\n",
    "\n",
    "print(res)"
   ]
  },
  {
   "cell_type": "markdown",
   "source": [
    "We get a different result this time when retrieve from the file `paul_graham_essay.txt`."
   ],
   "metadata": {
    "collapsed": false,
    "id": "Sji6E7-zoUcs"
   },
   "id": "Sji6E7-zoUcs"
  },
  {
   "cell_type": "code",
   "execution_count": null,
   "id": "0f134a35-dbd3-49d8-b7d8-48bdd2349701",
   "metadata": {
    "id": "0f134a35-dbd3-49d8-b7d8-48bdd2349701",
    "outputId": "46c1a32e-61d4-46bb-e7f9-664a82d2f5d6"
   },
   "outputs": [
    {
     "name": "stdout",
     "output_type": "stream",
     "text": [
      "The disease posed challenges for the author as it affected his mother's health, leading to a stroke caused by colon cancer. This resulted in his mother losing her balance and needing to be placed in a nursing home. The author and his sister were determined to help their mother get out of the nursing home and back to her house.\n"
     ]
    }
   ],
   "source": [
    "filters = MetadataFilters(\n",
    "    filters=[ExactMatchFilter(key=\"file_name\", value=\"lanzhou.txt\")]\n",
    ")\n",
    "query_engine = index.as_query_engine(filters=filters)\n",
    "res = query_engine.query(\"What challenges did the disease pose for the author?\")\n",
    "\n",
    "print(res)"
   ]
  }
 ],
 "metadata": {
  "kernelspec": {
   "display_name": "Python 3 (ipykernel)",
   "language": "python",
   "name": "python3"
  },
  "language_info": {
   "codemirror_mode": {
    "name": "ipython",
    "version": 3
   },
   "file_extension": ".py",
   "mimetype": "text/x-python",
   "name": "python",
   "nbconvert_exporter": "python",
   "pygments_lexer": "ipython3",
   "version": "3.10.13"
  },
  "colab": {
   "provenance": []
  }
 },
 "nbformat": 4,
 "nbformat_minor": 5
}
